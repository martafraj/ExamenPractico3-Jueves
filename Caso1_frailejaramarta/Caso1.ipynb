{
 "cells": [
  {
   "cell_type": "markdown",
   "metadata": {
    "application/vnd.databricks.v1+cell": {
     "cellMetadata": {},
     "inputWidgets": {},
     "nuid": "31172f7a-7cb2-4c7e-8425-875529489e40",
     "showTitle": false,
     "tableResultSettingsMap": {},
     "title": ""
    }
   },
   "source": [
    "# Preparar el fichero `orders_data.parquet` de modo que pueda ser usado para contruir un 'forecasting model'.\n"
   ]
  },
  {
   "cell_type": "code",
   "execution_count": 0,
   "metadata": {
    "application/vnd.databricks.v1+cell": {
     "cellMetadata": {
      "byteLimit": 2048000,
      "rowLimit": 10000
     },
     "inputWidgets": {},
     "nuid": "add597d3-4772-473e-82e7-ab151420202f",
     "showTitle": false,
     "tableResultSettingsMap": {},
     "title": ""
    }
   },
   "outputs": [],
   "source": [
    "from pyspark.sql import (\n",
    "    SparkSession,\n",
    "    types,\n",
    "    functions as F,\n",
    ")\n",
    "\n",
    "spark = (\n",
    "    SparkSession\n",
    "    .builder\n",
    "    .appName('cleaning_orders_dataset_with_pyspark')\n",
    "    .getOrCreate()\n",
    ")"
   ]
  },
  {
   "cell_type": "code",
   "execution_count": 0,
   "metadata": {
    "application/vnd.databricks.v1+cell": {
     "cellMetadata": {
      "byteLimit": 2048000,
      "rowLimit": 10000
     },
     "inputWidgets": {},
     "nuid": "b0e448f7-751f-40f6-916c-f5a28c00c57a",
     "showTitle": false,
     "tableResultSettingsMap": {},
     "title": ""
    }
   },
   "outputs": [
    {
     "output_type": "display_data",
     "data": {
      "text/html": [
       "<div>\n",
       "<style scoped>\n",
       "    .dataframe tbody tr th:only-of-type {\n",
       "        vertical-align: middle;\n",
       "    }\n",
       "\n",
       "    .dataframe tbody tr th {\n",
       "        vertical-align: top;\n",
       "    }\n",
       "\n",
       "    .dataframe thead th {\n",
       "        text-align: right;\n",
       "    }\n",
       "</style>\n",
       "<table border=\"1\" class=\"dataframe\">\n",
       "  <thead>\n",
       "    <tr style=\"text-align: right;\">\n",
       "      <th></th>\n",
       "      <th>order_date</th>\n",
       "      <th>order_id</th>\n",
       "      <th>product</th>\n",
       "      <th>product_id</th>\n",
       "      <th>category</th>\n",
       "      <th>purchase_address</th>\n",
       "      <th>quantity_ordered</th>\n",
       "      <th>price_each</th>\n",
       "      <th>cost_price</th>\n",
       "      <th>turnover</th>\n",
       "      <th>margin</th>\n",
       "    </tr>\n",
       "  </thead>\n",
       "  <tbody>\n",
       "    <tr>\n",
       "      <th>0</th>\n",
       "      <td>2023-01-22 21:25:00</td>\n",
       "      <td>141234</td>\n",
       "      <td>iPhone</td>\n",
       "      <td>5.638009e+12</td>\n",
       "      <td>Vêtements</td>\n",
       "      <td>944 Walnut St, Boston, MA 02215</td>\n",
       "      <td>1</td>\n",
       "      <td>700.00</td>\n",
       "      <td>231.0000</td>\n",
       "      <td>700.00</td>\n",
       "      <td>469.0000</td>\n",
       "    </tr>\n",
       "    <tr>\n",
       "      <th>1</th>\n",
       "      <td>2023-01-28 14:15:00</td>\n",
       "      <td>141235</td>\n",
       "      <td>Lightning Charging Cable</td>\n",
       "      <td>5.563320e+12</td>\n",
       "      <td>Alimentation</td>\n",
       "      <td>185 Maple St, Portland, OR 97035</td>\n",
       "      <td>1</td>\n",
       "      <td>14.95</td>\n",
       "      <td>7.4750</td>\n",
       "      <td>14.95</td>\n",
       "      <td>7.4750</td>\n",
       "    </tr>\n",
       "    <tr>\n",
       "      <th>2</th>\n",
       "      <td>2023-01-17 13:33:00</td>\n",
       "      <td>141236</td>\n",
       "      <td>Wired Headphones</td>\n",
       "      <td>2.113973e+12</td>\n",
       "      <td>Vêtements</td>\n",
       "      <td>538 Adams St, San Francisco, CA 94016</td>\n",
       "      <td>2</td>\n",
       "      <td>11.99</td>\n",
       "      <td>5.9950</td>\n",
       "      <td>23.98</td>\n",
       "      <td>11.9900</td>\n",
       "    </tr>\n",
       "    <tr>\n",
       "      <th>3</th>\n",
       "      <td>2023-01-05 20:33:00</td>\n",
       "      <td>141237</td>\n",
       "      <td>27in FHD Monitor</td>\n",
       "      <td>3.069157e+12</td>\n",
       "      <td>Sports</td>\n",
       "      <td>738 10th St, Los Angeles, CA 90001</td>\n",
       "      <td>1</td>\n",
       "      <td>149.99</td>\n",
       "      <td>97.4935</td>\n",
       "      <td>149.99</td>\n",
       "      <td>52.4965</td>\n",
       "    </tr>\n",
       "    <tr>\n",
       "      <th>4</th>\n",
       "      <td>2023-01-25 11:59:00</td>\n",
       "      <td>141238</td>\n",
       "      <td>Wired Headphones</td>\n",
       "      <td>9.692681e+12</td>\n",
       "      <td>Électronique</td>\n",
       "      <td>387 10th St, Austin, TX 73301</td>\n",
       "      <td>1</td>\n",
       "      <td>11.99</td>\n",
       "      <td>5.9950</td>\n",
       "      <td>11.99</td>\n",
       "      <td>5.9950</td>\n",
       "    </tr>\n",
       "  </tbody>\n",
       "</table>\n",
       "</div>"
      ]
     },
     "metadata": {
      "application/vnd.databricks.v1+output": {
       "addedWidgets": {},
       "arguments": {},
       "data": "<div>\n<style scoped>\n    .dataframe tbody tr th:only-of-type {\n        vertical-align: middle;\n    }\n\n    .dataframe tbody tr th {\n        vertical-align: top;\n    }\n\n    .dataframe thead th {\n        text-align: right;\n    }\n</style>\n<table border=\"1\" class=\"dataframe\">\n  <thead>\n    <tr style=\"text-align: right;\">\n      <th></th>\n      <th>order_date</th>\n      <th>order_id</th>\n      <th>product</th>\n      <th>product_id</th>\n      <th>category</th>\n      <th>purchase_address</th>\n      <th>quantity_ordered</th>\n      <th>price_each</th>\n      <th>cost_price</th>\n      <th>turnover</th>\n      <th>margin</th>\n    </tr>\n  </thead>\n  <tbody>\n    <tr>\n      <th>0</th>\n      <td>2023-01-22 21:25:00</td>\n      <td>141234</td>\n      <td>iPhone</td>\n      <td>5.638009e+12</td>\n      <td>Vêtements</td>\n      <td>944 Walnut St, Boston, MA 02215</td>\n      <td>1</td>\n      <td>700.00</td>\n      <td>231.0000</td>\n      <td>700.00</td>\n      <td>469.0000</td>\n    </tr>\n    <tr>\n      <th>1</th>\n      <td>2023-01-28 14:15:00</td>\n      <td>141235</td>\n      <td>Lightning Charging Cable</td>\n      <td>5.563320e+12</td>\n      <td>Alimentation</td>\n      <td>185 Maple St, Portland, OR 97035</td>\n      <td>1</td>\n      <td>14.95</td>\n      <td>7.4750</td>\n      <td>14.95</td>\n      <td>7.4750</td>\n    </tr>\n    <tr>\n      <th>2</th>\n      <td>2023-01-17 13:33:00</td>\n      <td>141236</td>\n      <td>Wired Headphones</td>\n      <td>2.113973e+12</td>\n      <td>Vêtements</td>\n      <td>538 Adams St, San Francisco, CA 94016</td>\n      <td>2</td>\n      <td>11.99</td>\n      <td>5.9950</td>\n      <td>23.98</td>\n      <td>11.9900</td>\n    </tr>\n    <tr>\n      <th>3</th>\n      <td>2023-01-05 20:33:00</td>\n      <td>141237</td>\n      <td>27in FHD Monitor</td>\n      <td>3.069157e+12</td>\n      <td>Sports</td>\n      <td>738 10th St, Los Angeles, CA 90001</td>\n      <td>1</td>\n      <td>149.99</td>\n      <td>97.4935</td>\n      <td>149.99</td>\n      <td>52.4965</td>\n    </tr>\n    <tr>\n      <th>4</th>\n      <td>2023-01-25 11:59:00</td>\n      <td>141238</td>\n      <td>Wired Headphones</td>\n      <td>9.692681e+12</td>\n      <td>Électronique</td>\n      <td>387 10th St, Austin, TX 73301</td>\n      <td>1</td>\n      <td>11.99</td>\n      <td>5.9950</td>\n      <td>11.99</td>\n      <td>5.9950</td>\n    </tr>\n  </tbody>\n</table>\n</div>",
       "datasetInfos": [],
       "metadata": {},
       "removedWidgets": [],
       "textData": null,
       "type": "htmlSandbox"
      }
     },
     "output_type": "display_data"
    }
   ],
   "source": [
    "df = spark.read.parquet('dbfs:/FileStore/orders_data.parquet')\n",
    "df.toPandas().head()"
   ]
  },
  {
   "cell_type": "markdown",
   "metadata": {
    "application/vnd.databricks.v1+cell": {
     "cellMetadata": {},
     "inputWidgets": {},
     "nuid": "e8f83166-3938-40ac-a22f-84129ca158ab",
     "showTitle": false,
     "tableResultSettingsMap": {},
     "title": ""
    }
   },
   "source": [
    "## 1. Modify: Remove orders placed between 12am and 5am (inclusive); convert from timestamp to date "
   ]
  },
  {
   "cell_type": "markdown",
   "metadata": {
    "application/vnd.databricks.v1+cell": {
     "cellMetadata": {},
     "inputWidgets": {},
     "nuid": "da900e59-4fa8-4eca-9a52-721df601c728",
     "showTitle": false,
     "tableResultSettingsMap": {},
     "title": ""
    }
   },
   "source": [
    "- Eliminar las órdenes realizadas entre las 12am y las 5am (inclusive)\n",
    "- Convertir la columna order_date de formato timestamp a solo fecha"
   ]
  },
  {
   "cell_type": "code",
   "execution_count": 0,
   "metadata": {
    "application/vnd.databricks.v1+cell": {
     "cellMetadata": {
      "byteLimit": 2048000,
      "rowLimit": 10000
     },
     "inputWidgets": {},
     "nuid": "e7dce7f0-adb3-4da2-8c8a-89255dd67665",
     "showTitle": false,
     "tableResultSettingsMap": {},
     "title": ""
    }
   },
   "outputs": [
    {
     "output_type": "display_data",
     "data": {
      "text/html": [
       "<div>\n",
       "<style scoped>\n",
       "    .dataframe tbody tr th:only-of-type {\n",
       "        vertical-align: middle;\n",
       "    }\n",
       "\n",
       "    .dataframe tbody tr th {\n",
       "        vertical-align: top;\n",
       "    }\n",
       "\n",
       "    .dataframe thead th {\n",
       "        text-align: right;\n",
       "    }\n",
       "</style>\n",
       "<table border=\"1\" class=\"dataframe\">\n",
       "  <thead>\n",
       "    <tr style=\"text-align: right;\">\n",
       "      <th></th>\n",
       "      <th>order_date</th>\n",
       "      <th>order_id</th>\n",
       "      <th>product</th>\n",
       "      <th>product_id</th>\n",
       "      <th>category</th>\n",
       "      <th>purchase_address</th>\n",
       "      <th>quantity_ordered</th>\n",
       "      <th>price_each</th>\n",
       "      <th>cost_price</th>\n",
       "      <th>turnover</th>\n",
       "      <th>margin</th>\n",
       "    </tr>\n",
       "  </thead>\n",
       "  <tbody>\n",
       "    <tr>\n",
       "      <th>0</th>\n",
       "      <td>2023-01-22</td>\n",
       "      <td>141234</td>\n",
       "      <td>iPhone</td>\n",
       "      <td>5.638009e+12</td>\n",
       "      <td>Vêtements</td>\n",
       "      <td>944 Walnut St, Boston, MA 02215</td>\n",
       "      <td>1</td>\n",
       "      <td>700.00</td>\n",
       "      <td>231.0000</td>\n",
       "      <td>700.00</td>\n",
       "      <td>469.0000</td>\n",
       "    </tr>\n",
       "    <tr>\n",
       "      <th>1</th>\n",
       "      <td>2023-01-28</td>\n",
       "      <td>141235</td>\n",
       "      <td>Lightning Charging Cable</td>\n",
       "      <td>5.563320e+12</td>\n",
       "      <td>Alimentation</td>\n",
       "      <td>185 Maple St, Portland, OR 97035</td>\n",
       "      <td>1</td>\n",
       "      <td>14.95</td>\n",
       "      <td>7.4750</td>\n",
       "      <td>14.95</td>\n",
       "      <td>7.4750</td>\n",
       "    </tr>\n",
       "    <tr>\n",
       "      <th>2</th>\n",
       "      <td>2023-01-17</td>\n",
       "      <td>141236</td>\n",
       "      <td>Wired Headphones</td>\n",
       "      <td>2.113973e+12</td>\n",
       "      <td>Vêtements</td>\n",
       "      <td>538 Adams St, San Francisco, CA 94016</td>\n",
       "      <td>2</td>\n",
       "      <td>11.99</td>\n",
       "      <td>5.9950</td>\n",
       "      <td>23.98</td>\n",
       "      <td>11.9900</td>\n",
       "    </tr>\n",
       "    <tr>\n",
       "      <th>3</th>\n",
       "      <td>2023-01-05</td>\n",
       "      <td>141237</td>\n",
       "      <td>27in FHD Monitor</td>\n",
       "      <td>3.069157e+12</td>\n",
       "      <td>Sports</td>\n",
       "      <td>738 10th St, Los Angeles, CA 90001</td>\n",
       "      <td>1</td>\n",
       "      <td>149.99</td>\n",
       "      <td>97.4935</td>\n",
       "      <td>149.99</td>\n",
       "      <td>52.4965</td>\n",
       "    </tr>\n",
       "    <tr>\n",
       "      <th>4</th>\n",
       "      <td>2023-01-25</td>\n",
       "      <td>141238</td>\n",
       "      <td>Wired Headphones</td>\n",
       "      <td>9.692681e+12</td>\n",
       "      <td>Électronique</td>\n",
       "      <td>387 10th St, Austin, TX 73301</td>\n",
       "      <td>1</td>\n",
       "      <td>11.99</td>\n",
       "      <td>5.9950</td>\n",
       "      <td>11.99</td>\n",
       "      <td>5.9950</td>\n",
       "    </tr>\n",
       "  </tbody>\n",
       "</table>\n",
       "</div>"
      ]
     },
     "metadata": {
      "application/vnd.databricks.v1+output": {
       "addedWidgets": {},
       "arguments": {},
       "data": "<div>\n<style scoped>\n    .dataframe tbody tr th:only-of-type {\n        vertical-align: middle;\n    }\n\n    .dataframe tbody tr th {\n        vertical-align: top;\n    }\n\n    .dataframe thead th {\n        text-align: right;\n    }\n</style>\n<table border=\"1\" class=\"dataframe\">\n  <thead>\n    <tr style=\"text-align: right;\">\n      <th></th>\n      <th>order_date</th>\n      <th>order_id</th>\n      <th>product</th>\n      <th>product_id</th>\n      <th>category</th>\n      <th>purchase_address</th>\n      <th>quantity_ordered</th>\n      <th>price_each</th>\n      <th>cost_price</th>\n      <th>turnover</th>\n      <th>margin</th>\n    </tr>\n  </thead>\n  <tbody>\n    <tr>\n      <th>0</th>\n      <td>2023-01-22</td>\n      <td>141234</td>\n      <td>iPhone</td>\n      <td>5.638009e+12</td>\n      <td>Vêtements</td>\n      <td>944 Walnut St, Boston, MA 02215</td>\n      <td>1</td>\n      <td>700.00</td>\n      <td>231.0000</td>\n      <td>700.00</td>\n      <td>469.0000</td>\n    </tr>\n    <tr>\n      <th>1</th>\n      <td>2023-01-28</td>\n      <td>141235</td>\n      <td>Lightning Charging Cable</td>\n      <td>5.563320e+12</td>\n      <td>Alimentation</td>\n      <td>185 Maple St, Portland, OR 97035</td>\n      <td>1</td>\n      <td>14.95</td>\n      <td>7.4750</td>\n      <td>14.95</td>\n      <td>7.4750</td>\n    </tr>\n    <tr>\n      <th>2</th>\n      <td>2023-01-17</td>\n      <td>141236</td>\n      <td>Wired Headphones</td>\n      <td>2.113973e+12</td>\n      <td>Vêtements</td>\n      <td>538 Adams St, San Francisco, CA 94016</td>\n      <td>2</td>\n      <td>11.99</td>\n      <td>5.9950</td>\n      <td>23.98</td>\n      <td>11.9900</td>\n    </tr>\n    <tr>\n      <th>3</th>\n      <td>2023-01-05</td>\n      <td>141237</td>\n      <td>27in FHD Monitor</td>\n      <td>3.069157e+12</td>\n      <td>Sports</td>\n      <td>738 10th St, Los Angeles, CA 90001</td>\n      <td>1</td>\n      <td>149.99</td>\n      <td>97.4935</td>\n      <td>149.99</td>\n      <td>52.4965</td>\n    </tr>\n    <tr>\n      <th>4</th>\n      <td>2023-01-25</td>\n      <td>141238</td>\n      <td>Wired Headphones</td>\n      <td>9.692681e+12</td>\n      <td>Électronique</td>\n      <td>387 10th St, Austin, TX 73301</td>\n      <td>1</td>\n      <td>11.99</td>\n      <td>5.9950</td>\n      <td>11.99</td>\n      <td>5.9950</td>\n    </tr>\n  </tbody>\n</table>\n</div>",
       "datasetInfos": [],
       "metadata": {},
       "removedWidgets": [],
       "textData": null,
       "type": "htmlSandbox"
      }
     },
     "output_type": "display_data"
    }
   ],
   "source": [
    "# Filtrar para eliminar órdenes realizadas entre las 12am y 5am (inclusive)\n",
    "filtered_df = df.filter(~((F.hour('order_date') >= 0) & (F.hour('order_date') <= 5)))\n",
    "\n",
    "# Convertir el timestamp a solo fecha\n",
    "cleaned_df = filtered_df.withColumn('order_date', F.to_date('order_date'))\n",
    "\n",
    "cleaned_df.toPandas().head()"
   ]
  },
  {
   "cell_type": "markdown",
   "metadata": {
    "application/vnd.databricks.v1+cell": {
     "cellMetadata": {},
     "inputWidgets": {},
     "nuid": "71b623c0-7840-45c6-acfc-b570e0040064",
     "showTitle": false,
     "tableResultSettingsMap": {},
     "title": ""
    }
   },
   "source": [
    "## 2. New column containing (lower bound inclusive, upper bound exclusive): \"morning\" for orders placed 5-12am, \"afternoon\" for orders placed 12-6pm, and \"evening\" for 6-12pm"
   ]
  },
  {
   "cell_type": "markdown",
   "metadata": {
    "application/vnd.databricks.v1+cell": {
     "cellMetadata": {},
     "inputWidgets": {},
     "nuid": "2f457b58-38ec-4f6d-8088-2c1dd2f533ff",
     "showTitle": false,
     "tableResultSettingsMap": {},
     "title": ""
    }
   },
   "source": [
    "Como ya convertimos order_date a una columna de solo fecha en el paso anterior, me daba error asi que voy a trabajar directamente con la columna original order_date antes de convertirla a fecha o creando una columna temporal con la hora antes de la conversión."
   ]
  },
  {
   "cell_type": "code",
   "execution_count": 0,
   "metadata": {
    "application/vnd.databricks.v1+cell": {
     "cellMetadata": {
      "byteLimit": 2048000,
      "rowLimit": 10000
     },
     "inputWidgets": {},
     "nuid": "18b52af8-6922-4a39-9818-2740eca70738",
     "showTitle": false,
     "tableResultSettingsMap": {},
     "title": ""
    }
   },
   "outputs": [
    {
     "output_type": "display_data",
     "data": {
      "text/html": [
       "<div>\n",
       "<style scoped>\n",
       "    .dataframe tbody tr th:only-of-type {\n",
       "        vertical-align: middle;\n",
       "    }\n",
       "\n",
       "    .dataframe tbody tr th {\n",
       "        vertical-align: top;\n",
       "    }\n",
       "\n",
       "    .dataframe thead th {\n",
       "        text-align: right;\n",
       "    }\n",
       "</style>\n",
       "<table border=\"1\" class=\"dataframe\">\n",
       "  <thead>\n",
       "    <tr style=\"text-align: right;\">\n",
       "      <th></th>\n",
       "      <th>order_date</th>\n",
       "      <th>order_id</th>\n",
       "      <th>product</th>\n",
       "      <th>product_id</th>\n",
       "      <th>category</th>\n",
       "      <th>purchase_address</th>\n",
       "      <th>quantity_ordered</th>\n",
       "      <th>price_each</th>\n",
       "      <th>cost_price</th>\n",
       "      <th>turnover</th>\n",
       "      <th>margin</th>\n",
       "      <th>time_of_day</th>\n",
       "    </tr>\n",
       "  </thead>\n",
       "  <tbody>\n",
       "    <tr>\n",
       "      <th>0</th>\n",
       "      <td>2023-01-22</td>\n",
       "      <td>141234</td>\n",
       "      <td>iPhone</td>\n",
       "      <td>5.638009e+12</td>\n",
       "      <td>Vêtements</td>\n",
       "      <td>944 Walnut St, Boston, MA 02215</td>\n",
       "      <td>1</td>\n",
       "      <td>700.00</td>\n",
       "      <td>231.0000</td>\n",
       "      <td>700.00</td>\n",
       "      <td>469.0000</td>\n",
       "      <td>evening</td>\n",
       "    </tr>\n",
       "    <tr>\n",
       "      <th>1</th>\n",
       "      <td>2023-01-28</td>\n",
       "      <td>141235</td>\n",
       "      <td>Lightning Charging Cable</td>\n",
       "      <td>5.563320e+12</td>\n",
       "      <td>Alimentation</td>\n",
       "      <td>185 Maple St, Portland, OR 97035</td>\n",
       "      <td>1</td>\n",
       "      <td>14.95</td>\n",
       "      <td>7.4750</td>\n",
       "      <td>14.95</td>\n",
       "      <td>7.4750</td>\n",
       "      <td>afternoon</td>\n",
       "    </tr>\n",
       "    <tr>\n",
       "      <th>2</th>\n",
       "      <td>2023-01-17</td>\n",
       "      <td>141236</td>\n",
       "      <td>Wired Headphones</td>\n",
       "      <td>2.113973e+12</td>\n",
       "      <td>Vêtements</td>\n",
       "      <td>538 Adams St, San Francisco, CA 94016</td>\n",
       "      <td>2</td>\n",
       "      <td>11.99</td>\n",
       "      <td>5.9950</td>\n",
       "      <td>23.98</td>\n",
       "      <td>11.9900</td>\n",
       "      <td>afternoon</td>\n",
       "    </tr>\n",
       "    <tr>\n",
       "      <th>3</th>\n",
       "      <td>2023-01-05</td>\n",
       "      <td>141237</td>\n",
       "      <td>27in FHD Monitor</td>\n",
       "      <td>3.069157e+12</td>\n",
       "      <td>Sports</td>\n",
       "      <td>738 10th St, Los Angeles, CA 90001</td>\n",
       "      <td>1</td>\n",
       "      <td>149.99</td>\n",
       "      <td>97.4935</td>\n",
       "      <td>149.99</td>\n",
       "      <td>52.4965</td>\n",
       "      <td>evening</td>\n",
       "    </tr>\n",
       "    <tr>\n",
       "      <th>4</th>\n",
       "      <td>2023-01-25</td>\n",
       "      <td>141238</td>\n",
       "      <td>Wired Headphones</td>\n",
       "      <td>9.692681e+12</td>\n",
       "      <td>Électronique</td>\n",
       "      <td>387 10th St, Austin, TX 73301</td>\n",
       "      <td>1</td>\n",
       "      <td>11.99</td>\n",
       "      <td>5.9950</td>\n",
       "      <td>11.99</td>\n",
       "      <td>5.9950</td>\n",
       "      <td>morning</td>\n",
       "    </tr>\n",
       "  </tbody>\n",
       "</table>\n",
       "</div>"
      ]
     },
     "metadata": {
      "application/vnd.databricks.v1+output": {
       "addedWidgets": {},
       "arguments": {},
       "data": "<div>\n<style scoped>\n    .dataframe tbody tr th:only-of-type {\n        vertical-align: middle;\n    }\n\n    .dataframe tbody tr th {\n        vertical-align: top;\n    }\n\n    .dataframe thead th {\n        text-align: right;\n    }\n</style>\n<table border=\"1\" class=\"dataframe\">\n  <thead>\n    <tr style=\"text-align: right;\">\n      <th></th>\n      <th>order_date</th>\n      <th>order_id</th>\n      <th>product</th>\n      <th>product_id</th>\n      <th>category</th>\n      <th>purchase_address</th>\n      <th>quantity_ordered</th>\n      <th>price_each</th>\n      <th>cost_price</th>\n      <th>turnover</th>\n      <th>margin</th>\n      <th>time_of_day</th>\n    </tr>\n  </thead>\n  <tbody>\n    <tr>\n      <th>0</th>\n      <td>2023-01-22</td>\n      <td>141234</td>\n      <td>iPhone</td>\n      <td>5.638009e+12</td>\n      <td>Vêtements</td>\n      <td>944 Walnut St, Boston, MA 02215</td>\n      <td>1</td>\n      <td>700.00</td>\n      <td>231.0000</td>\n      <td>700.00</td>\n      <td>469.0000</td>\n      <td>evening</td>\n    </tr>\n    <tr>\n      <th>1</th>\n      <td>2023-01-28</td>\n      <td>141235</td>\n      <td>Lightning Charging Cable</td>\n      <td>5.563320e+12</td>\n      <td>Alimentation</td>\n      <td>185 Maple St, Portland, OR 97035</td>\n      <td>1</td>\n      <td>14.95</td>\n      <td>7.4750</td>\n      <td>14.95</td>\n      <td>7.4750</td>\n      <td>afternoon</td>\n    </tr>\n    <tr>\n      <th>2</th>\n      <td>2023-01-17</td>\n      <td>141236</td>\n      <td>Wired Headphones</td>\n      <td>2.113973e+12</td>\n      <td>Vêtements</td>\n      <td>538 Adams St, San Francisco, CA 94016</td>\n      <td>2</td>\n      <td>11.99</td>\n      <td>5.9950</td>\n      <td>23.98</td>\n      <td>11.9900</td>\n      <td>afternoon</td>\n    </tr>\n    <tr>\n      <th>3</th>\n      <td>2023-01-05</td>\n      <td>141237</td>\n      <td>27in FHD Monitor</td>\n      <td>3.069157e+12</td>\n      <td>Sports</td>\n      <td>738 10th St, Los Angeles, CA 90001</td>\n      <td>1</td>\n      <td>149.99</td>\n      <td>97.4935</td>\n      <td>149.99</td>\n      <td>52.4965</td>\n      <td>evening</td>\n    </tr>\n    <tr>\n      <th>4</th>\n      <td>2023-01-25</td>\n      <td>141238</td>\n      <td>Wired Headphones</td>\n      <td>9.692681e+12</td>\n      <td>Électronique</td>\n      <td>387 10th St, Austin, TX 73301</td>\n      <td>1</td>\n      <td>11.99</td>\n      <td>5.9950</td>\n      <td>11.99</td>\n      <td>5.9950</td>\n      <td>morning</td>\n    </tr>\n  </tbody>\n</table>\n</div>",
       "datasetInfos": [],
       "metadata": {},
       "removedWidgets": [],
       "textData": null,
       "type": "htmlSandbox"
      }
     },
     "output_type": "display_data"
    }
   ],
   "source": [
    "# Crear una columna temporal con la hora extraída antes de convertir a fecha\n",
    "temp_df = df.withColumn('hour', F.hour('order_date'))\n",
    "\n",
    "# Filtrar las órdenes entre 12am y 5am, y luego convertir a fecha\n",
    "filtered_df = temp_df.filter(~((F.col('hour') >= 0) & (F.col('hour') <= 5)))\n",
    "\n",
    "# Clasificar las órdenes según el período del día\n",
    "classified_df = filtered_df.withColumn(\n",
    "    'time_of_day',\n",
    "    F.when((F.col('hour') >= 5) & (F.col('hour') < 12), 'morning')\n",
    "     .when((F.col('hour') >= 12) & (F.col('hour') < 18), 'afternoon')\n",
    "     .when((F.col('hour') >= 18) & (F.col('hour') < 24), 'evening')\n",
    "     .otherwise('unknown')\n",
    ")\n",
    "\n",
    "# Luego ya se vuelve a convertir `order_date` a solo fecha\n",
    "final_df = classified_df.withColumn('order_date', F.to_date('order_date')).drop('hour')\n",
    "\n",
    "final_df.toPandas().head()\n",
    "# final_df.select('product').distinct().show(20, truncate=False)\n"
   ]
  },
  {
   "cell_type": "markdown",
   "metadata": {
    "application/vnd.databricks.v1+cell": {
     "cellMetadata": {},
     "inputWidgets": {},
     "nuid": "9f5ea809-4d88-4061-8e9e-ada972a82292",
     "showTitle": false,
     "tableResultSettingsMap": {},
     "title": ""
    }
   },
   "source": [
    "## 3. Remove rows containing \"TV\" as the company has stopped selling this product; ensure all values are lowercase\n",
    "\n"
   ]
  },
  {
   "cell_type": "markdown",
   "metadata": {
    "application/vnd.databricks.v1+cell": {
     "cellMetadata": {},
     "inputWidgets": {},
     "nuid": "a07a1c7e-ee1d-4c4d-821a-81ab919e7d4b",
     "showTitle": false,
     "tableResultSettingsMap": {},
     "title": ""
    }
   },
   "source": [
    "- Convertir todos los valores de la columna product a minúsculas.\n",
    "- Eliminar las filas donde el producto contenga \"TV\"."
   ]
  },
  {
   "cell_type": "markdown",
   "metadata": {
    "application/vnd.databricks.v1+cell": {
     "cellMetadata": {},
     "inputWidgets": {},
     "nuid": "00cd4daf-5373-401f-a33c-910dce83edc1",
     "showTitle": false,
     "tableResultSettingsMap": {},
     "title": ""
    }
   },
   "source": [
    "> En la ultima linea del anterior ejercicio hay comentada una linea en la que muestro los 20 primeros registros para comprobar si hay algun Tv, efectivamente aparece un tal \"Flatscreen TV\". \n",
    "\n",
    "> Al ejecutar nuestro codigo de este erjecicio podemos ver que ese registro ya no aparece y que se encuentra todo en minusculas. De momento dejo para que se ejecute el pandas pero puedes descomentar la linea de abajo y comprobar esto tu mismo. "
   ]
  },
  {
   "cell_type": "code",
   "execution_count": 0,
   "metadata": {
    "application/vnd.databricks.v1+cell": {
     "cellMetadata": {
      "byteLimit": 2048000,
      "rowLimit": 10000
     },
     "inputWidgets": {},
     "nuid": "d6d7b990-b871-4d40-b958-22cb5712e702",
     "showTitle": false,
     "tableResultSettingsMap": {},
     "title": ""
    }
   },
   "outputs": [
    {
     "output_type": "display_data",
     "data": {
      "text/html": [
       "<div>\n",
       "<style scoped>\n",
       "    .dataframe tbody tr th:only-of-type {\n",
       "        vertical-align: middle;\n",
       "    }\n",
       "\n",
       "    .dataframe tbody tr th {\n",
       "        vertical-align: top;\n",
       "    }\n",
       "\n",
       "    .dataframe thead th {\n",
       "        text-align: right;\n",
       "    }\n",
       "</style>\n",
       "<table border=\"1\" class=\"dataframe\">\n",
       "  <thead>\n",
       "    <tr style=\"text-align: right;\">\n",
       "      <th></th>\n",
       "      <th>order_date</th>\n",
       "      <th>order_id</th>\n",
       "      <th>product</th>\n",
       "      <th>product_id</th>\n",
       "      <th>category</th>\n",
       "      <th>purchase_address</th>\n",
       "      <th>quantity_ordered</th>\n",
       "      <th>price_each</th>\n",
       "      <th>cost_price</th>\n",
       "      <th>turnover</th>\n",
       "      <th>margin</th>\n",
       "      <th>time_of_day</th>\n",
       "    </tr>\n",
       "  </thead>\n",
       "  <tbody>\n",
       "    <tr>\n",
       "      <th>0</th>\n",
       "      <td>2023-01-22</td>\n",
       "      <td>141234</td>\n",
       "      <td>iphone</td>\n",
       "      <td>5.638009e+12</td>\n",
       "      <td>Vêtements</td>\n",
       "      <td>944 Walnut St, Boston, MA 02215</td>\n",
       "      <td>1</td>\n",
       "      <td>700.00</td>\n",
       "      <td>231.0000</td>\n",
       "      <td>700.00</td>\n",
       "      <td>469.0000</td>\n",
       "      <td>evening</td>\n",
       "    </tr>\n",
       "    <tr>\n",
       "      <th>1</th>\n",
       "      <td>2023-01-28</td>\n",
       "      <td>141235</td>\n",
       "      <td>lightning charging cable</td>\n",
       "      <td>5.563320e+12</td>\n",
       "      <td>Alimentation</td>\n",
       "      <td>185 Maple St, Portland, OR 97035</td>\n",
       "      <td>1</td>\n",
       "      <td>14.95</td>\n",
       "      <td>7.4750</td>\n",
       "      <td>14.95</td>\n",
       "      <td>7.4750</td>\n",
       "      <td>afternoon</td>\n",
       "    </tr>\n",
       "    <tr>\n",
       "      <th>2</th>\n",
       "      <td>2023-01-17</td>\n",
       "      <td>141236</td>\n",
       "      <td>wired headphones</td>\n",
       "      <td>2.113973e+12</td>\n",
       "      <td>Vêtements</td>\n",
       "      <td>538 Adams St, San Francisco, CA 94016</td>\n",
       "      <td>2</td>\n",
       "      <td>11.99</td>\n",
       "      <td>5.9950</td>\n",
       "      <td>23.98</td>\n",
       "      <td>11.9900</td>\n",
       "      <td>afternoon</td>\n",
       "    </tr>\n",
       "    <tr>\n",
       "      <th>3</th>\n",
       "      <td>2023-01-05</td>\n",
       "      <td>141237</td>\n",
       "      <td>27in fhd monitor</td>\n",
       "      <td>3.069157e+12</td>\n",
       "      <td>Sports</td>\n",
       "      <td>738 10th St, Los Angeles, CA 90001</td>\n",
       "      <td>1</td>\n",
       "      <td>149.99</td>\n",
       "      <td>97.4935</td>\n",
       "      <td>149.99</td>\n",
       "      <td>52.4965</td>\n",
       "      <td>evening</td>\n",
       "    </tr>\n",
       "    <tr>\n",
       "      <th>4</th>\n",
       "      <td>2023-01-25</td>\n",
       "      <td>141238</td>\n",
       "      <td>wired headphones</td>\n",
       "      <td>9.692681e+12</td>\n",
       "      <td>Électronique</td>\n",
       "      <td>387 10th St, Austin, TX 73301</td>\n",
       "      <td>1</td>\n",
       "      <td>11.99</td>\n",
       "      <td>5.9950</td>\n",
       "      <td>11.99</td>\n",
       "      <td>5.9950</td>\n",
       "      <td>morning</td>\n",
       "    </tr>\n",
       "  </tbody>\n",
       "</table>\n",
       "</div>"
      ]
     },
     "metadata": {
      "application/vnd.databricks.v1+output": {
       "addedWidgets": {},
       "arguments": {},
       "data": "<div>\n<style scoped>\n    .dataframe tbody tr th:only-of-type {\n        vertical-align: middle;\n    }\n\n    .dataframe tbody tr th {\n        vertical-align: top;\n    }\n\n    .dataframe thead th {\n        text-align: right;\n    }\n</style>\n<table border=\"1\" class=\"dataframe\">\n  <thead>\n    <tr style=\"text-align: right;\">\n      <th></th>\n      <th>order_date</th>\n      <th>order_id</th>\n      <th>product</th>\n      <th>product_id</th>\n      <th>category</th>\n      <th>purchase_address</th>\n      <th>quantity_ordered</th>\n      <th>price_each</th>\n      <th>cost_price</th>\n      <th>turnover</th>\n      <th>margin</th>\n      <th>time_of_day</th>\n    </tr>\n  </thead>\n  <tbody>\n    <tr>\n      <th>0</th>\n      <td>2023-01-22</td>\n      <td>141234</td>\n      <td>iphone</td>\n      <td>5.638009e+12</td>\n      <td>Vêtements</td>\n      <td>944 Walnut St, Boston, MA 02215</td>\n      <td>1</td>\n      <td>700.00</td>\n      <td>231.0000</td>\n      <td>700.00</td>\n      <td>469.0000</td>\n      <td>evening</td>\n    </tr>\n    <tr>\n      <th>1</th>\n      <td>2023-01-28</td>\n      <td>141235</td>\n      <td>lightning charging cable</td>\n      <td>5.563320e+12</td>\n      <td>Alimentation</td>\n      <td>185 Maple St, Portland, OR 97035</td>\n      <td>1</td>\n      <td>14.95</td>\n      <td>7.4750</td>\n      <td>14.95</td>\n      <td>7.4750</td>\n      <td>afternoon</td>\n    </tr>\n    <tr>\n      <th>2</th>\n      <td>2023-01-17</td>\n      <td>141236</td>\n      <td>wired headphones</td>\n      <td>2.113973e+12</td>\n      <td>Vêtements</td>\n      <td>538 Adams St, San Francisco, CA 94016</td>\n      <td>2</td>\n      <td>11.99</td>\n      <td>5.9950</td>\n      <td>23.98</td>\n      <td>11.9900</td>\n      <td>afternoon</td>\n    </tr>\n    <tr>\n      <th>3</th>\n      <td>2023-01-05</td>\n      <td>141237</td>\n      <td>27in fhd monitor</td>\n      <td>3.069157e+12</td>\n      <td>Sports</td>\n      <td>738 10th St, Los Angeles, CA 90001</td>\n      <td>1</td>\n      <td>149.99</td>\n      <td>97.4935</td>\n      <td>149.99</td>\n      <td>52.4965</td>\n      <td>evening</td>\n    </tr>\n    <tr>\n      <th>4</th>\n      <td>2023-01-25</td>\n      <td>141238</td>\n      <td>wired headphones</td>\n      <td>9.692681e+12</td>\n      <td>Électronique</td>\n      <td>387 10th St, Austin, TX 73301</td>\n      <td>1</td>\n      <td>11.99</td>\n      <td>5.9950</td>\n      <td>11.99</td>\n      <td>5.9950</td>\n      <td>morning</td>\n    </tr>\n  </tbody>\n</table>\n</div>",
       "datasetInfos": [],
       "metadata": {},
       "removedWidgets": [],
       "textData": null,
       "type": "htmlSandbox"
      }
     },
     "output_type": "display_data"
    }
   ],
   "source": [
    "# Convertir a minúsculas\n",
    "lowercase_df = final_df.withColumn('product', F.lower(F.col('product')))\n",
    "\n",
    "# Filtrar para eliminar filas donde el producto contenga \"tv\"\n",
    "# Aqui como ya todo esta en minusculas se deja entre las comillas tv en minuscula, no hace falta mas\n",
    "filtered_df = lowercase_df.filter(~F.col('product').contains('tv'))\n",
    "\n",
    "filtered_df.toPandas().head()\n",
    "# filtered_df.select('product').distinct().show(20, truncate=False)\n"
   ]
  },
  {
   "cell_type": "markdown",
   "metadata": {
    "application/vnd.databricks.v1+cell": {
     "cellMetadata": {},
     "inputWidgets": {},
     "nuid": "c3c1d177-dd40-4912-8af3-4f2bebd5a305",
     "showTitle": false,
     "tableResultSettingsMap": {},
     "title": ""
    }
   },
   "source": [
    "## 4. Ensure all values are lowercase"
   ]
  },
  {
   "cell_type": "markdown",
   "metadata": {
    "application/vnd.databricks.v1+cell": {
     "cellMetadata": {},
     "inputWidgets": {},
     "nuid": "0d22f6ed-e7f4-4513-a517-397532df9ec0",
     "showTitle": false,
     "tableResultSettingsMap": {},
     "title": ""
    }
   },
   "source": [
    "> Aqui como la columna que cree ya va en minusculas, los productos tambien y muchas son numericas, solo habria que transformar la d `category` y la de d `purchase_address` como lo hemos hecho antes"
   ]
  },
  {
   "cell_type": "code",
   "execution_count": 0,
   "metadata": {
    "application/vnd.databricks.v1+cell": {
     "cellMetadata": {
      "byteLimit": 2048000,
      "rowLimit": 10000
     },
     "inputWidgets": {},
     "nuid": "95bd6e46-314d-4104-bf65-1c1d4b70bf90",
     "showTitle": false,
     "tableResultSettingsMap": {},
     "title": ""
    }
   },
   "outputs": [
    {
     "output_type": "display_data",
     "data": {
      "text/html": [
       "<div>\n",
       "<style scoped>\n",
       "    .dataframe tbody tr th:only-of-type {\n",
       "        vertical-align: middle;\n",
       "    }\n",
       "\n",
       "    .dataframe tbody tr th {\n",
       "        vertical-align: top;\n",
       "    }\n",
       "\n",
       "    .dataframe thead th {\n",
       "        text-align: right;\n",
       "    }\n",
       "</style>\n",
       "<table border=\"1\" class=\"dataframe\">\n",
       "  <thead>\n",
       "    <tr style=\"text-align: right;\">\n",
       "      <th></th>\n",
       "      <th>order_date</th>\n",
       "      <th>order_id</th>\n",
       "      <th>product</th>\n",
       "      <th>product_id</th>\n",
       "      <th>category</th>\n",
       "      <th>purchase_address</th>\n",
       "      <th>quantity_ordered</th>\n",
       "      <th>price_each</th>\n",
       "      <th>cost_price</th>\n",
       "      <th>turnover</th>\n",
       "      <th>margin</th>\n",
       "      <th>time_of_day</th>\n",
       "    </tr>\n",
       "  </thead>\n",
       "  <tbody>\n",
       "    <tr>\n",
       "      <th>0</th>\n",
       "      <td>2023-01-22</td>\n",
       "      <td>141234</td>\n",
       "      <td>iphone</td>\n",
       "      <td>5.638009e+12</td>\n",
       "      <td>vêtements</td>\n",
       "      <td>944 walnut st, boston, ma 02215</td>\n",
       "      <td>1</td>\n",
       "      <td>700.00</td>\n",
       "      <td>231.0000</td>\n",
       "      <td>700.00</td>\n",
       "      <td>469.0000</td>\n",
       "      <td>evening</td>\n",
       "    </tr>\n",
       "    <tr>\n",
       "      <th>1</th>\n",
       "      <td>2023-01-28</td>\n",
       "      <td>141235</td>\n",
       "      <td>lightning charging cable</td>\n",
       "      <td>5.563320e+12</td>\n",
       "      <td>alimentation</td>\n",
       "      <td>185 maple st, portland, or 97035</td>\n",
       "      <td>1</td>\n",
       "      <td>14.95</td>\n",
       "      <td>7.4750</td>\n",
       "      <td>14.95</td>\n",
       "      <td>7.4750</td>\n",
       "      <td>afternoon</td>\n",
       "    </tr>\n",
       "    <tr>\n",
       "      <th>2</th>\n",
       "      <td>2023-01-17</td>\n",
       "      <td>141236</td>\n",
       "      <td>wired headphones</td>\n",
       "      <td>2.113973e+12</td>\n",
       "      <td>vêtements</td>\n",
       "      <td>538 adams st, san francisco, ca 94016</td>\n",
       "      <td>2</td>\n",
       "      <td>11.99</td>\n",
       "      <td>5.9950</td>\n",
       "      <td>23.98</td>\n",
       "      <td>11.9900</td>\n",
       "      <td>afternoon</td>\n",
       "    </tr>\n",
       "    <tr>\n",
       "      <th>3</th>\n",
       "      <td>2023-01-05</td>\n",
       "      <td>141237</td>\n",
       "      <td>27in fhd monitor</td>\n",
       "      <td>3.069157e+12</td>\n",
       "      <td>sports</td>\n",
       "      <td>738 10th st, los angeles, ca 90001</td>\n",
       "      <td>1</td>\n",
       "      <td>149.99</td>\n",
       "      <td>97.4935</td>\n",
       "      <td>149.99</td>\n",
       "      <td>52.4965</td>\n",
       "      <td>evening</td>\n",
       "    </tr>\n",
       "    <tr>\n",
       "      <th>4</th>\n",
       "      <td>2023-01-25</td>\n",
       "      <td>141238</td>\n",
       "      <td>wired headphones</td>\n",
       "      <td>9.692681e+12</td>\n",
       "      <td>électronique</td>\n",
       "      <td>387 10th st, austin, tx 73301</td>\n",
       "      <td>1</td>\n",
       "      <td>11.99</td>\n",
       "      <td>5.9950</td>\n",
       "      <td>11.99</td>\n",
       "      <td>5.9950</td>\n",
       "      <td>morning</td>\n",
       "    </tr>\n",
       "  </tbody>\n",
       "</table>\n",
       "</div>"
      ]
     },
     "metadata": {
      "application/vnd.databricks.v1+output": {
       "addedWidgets": {},
       "arguments": {},
       "data": "<div>\n<style scoped>\n    .dataframe tbody tr th:only-of-type {\n        vertical-align: middle;\n    }\n\n    .dataframe tbody tr th {\n        vertical-align: top;\n    }\n\n    .dataframe thead th {\n        text-align: right;\n    }\n</style>\n<table border=\"1\" class=\"dataframe\">\n  <thead>\n    <tr style=\"text-align: right;\">\n      <th></th>\n      <th>order_date</th>\n      <th>order_id</th>\n      <th>product</th>\n      <th>product_id</th>\n      <th>category</th>\n      <th>purchase_address</th>\n      <th>quantity_ordered</th>\n      <th>price_each</th>\n      <th>cost_price</th>\n      <th>turnover</th>\n      <th>margin</th>\n      <th>time_of_day</th>\n    </tr>\n  </thead>\n  <tbody>\n    <tr>\n      <th>0</th>\n      <td>2023-01-22</td>\n      <td>141234</td>\n      <td>iphone</td>\n      <td>5.638009e+12</td>\n      <td>vêtements</td>\n      <td>944 walnut st, boston, ma 02215</td>\n      <td>1</td>\n      <td>700.00</td>\n      <td>231.0000</td>\n      <td>700.00</td>\n      <td>469.0000</td>\n      <td>evening</td>\n    </tr>\n    <tr>\n      <th>1</th>\n      <td>2023-01-28</td>\n      <td>141235</td>\n      <td>lightning charging cable</td>\n      <td>5.563320e+12</td>\n      <td>alimentation</td>\n      <td>185 maple st, portland, or 97035</td>\n      <td>1</td>\n      <td>14.95</td>\n      <td>7.4750</td>\n      <td>14.95</td>\n      <td>7.4750</td>\n      <td>afternoon</td>\n    </tr>\n    <tr>\n      <th>2</th>\n      <td>2023-01-17</td>\n      <td>141236</td>\n      <td>wired headphones</td>\n      <td>2.113973e+12</td>\n      <td>vêtements</td>\n      <td>538 adams st, san francisco, ca 94016</td>\n      <td>2</td>\n      <td>11.99</td>\n      <td>5.9950</td>\n      <td>23.98</td>\n      <td>11.9900</td>\n      <td>afternoon</td>\n    </tr>\n    <tr>\n      <th>3</th>\n      <td>2023-01-05</td>\n      <td>141237</td>\n      <td>27in fhd monitor</td>\n      <td>3.069157e+12</td>\n      <td>sports</td>\n      <td>738 10th st, los angeles, ca 90001</td>\n      <td>1</td>\n      <td>149.99</td>\n      <td>97.4935</td>\n      <td>149.99</td>\n      <td>52.4965</td>\n      <td>evening</td>\n    </tr>\n    <tr>\n      <th>4</th>\n      <td>2023-01-25</td>\n      <td>141238</td>\n      <td>wired headphones</td>\n      <td>9.692681e+12</td>\n      <td>électronique</td>\n      <td>387 10th st, austin, tx 73301</td>\n      <td>1</td>\n      <td>11.99</td>\n      <td>5.9950</td>\n      <td>11.99</td>\n      <td>5.9950</td>\n      <td>morning</td>\n    </tr>\n  </tbody>\n</table>\n</div>",
       "datasetInfos": [],
       "metadata": {},
       "removedWidgets": [],
       "textData": null,
       "type": "htmlSandbox"
      }
     },
     "output_type": "display_data"
    }
   ],
   "source": [
    "# Convertir todas las columnas de tipo texto a minúsculas\n",
    "lowercase_df = filtered_df.withColumn('category', F.lower(F.col('category'))) \\\n",
    "                          .withColumn('purchase_address', F.lower(F.col('purchase_address')))\n",
    "\n",
    "lowercase_df.toPandas().head()\n"
   ]
  },
  {
   "cell_type": "markdown",
   "metadata": {
    "application/vnd.databricks.v1+cell": {
     "cellMetadata": {},
     "inputWidgets": {},
     "nuid": "5c595580-0fc1-469a-87f7-4d6eca9875f9",
     "showTitle": false,
     "tableResultSettingsMap": {},
     "title": ""
    }
   },
   "source": [
    "## 5. New column containing: the State that the purchase was ordered from"
   ]
  },
  {
   "cell_type": "markdown",
   "metadata": {
    "application/vnd.databricks.v1+cell": {
     "cellMetadata": {},
     "inputWidgets": {},
     "nuid": "4f69e697-792b-45b4-a0a3-bbf3a63ac074",
     "showTitle": false,
     "tableResultSettingsMap": {},
     "title": ""
    }
   },
   "source": [
    "> Las direcciones siguen todas el mismo formato, por lo que veo el estado es el que esta despues de la coma, siendo las dos letras esas. \n",
    "Ej: ma = Massachusetts\n",
    "\n",
    "> Entonces en la columna que se genere van a quedar las dos letras, el nombre del estado como tal pues no, para eso ya le puedes meter mas tablas en el futuro que los compare y filtre\n",
    "\n"
   ]
  },
  {
   "cell_type": "code",
   "execution_count": 0,
   "metadata": {
    "application/vnd.databricks.v1+cell": {
     "cellMetadata": {
      "byteLimit": 2048000,
      "rowLimit": 10000
     },
     "inputWidgets": {},
     "nuid": "77c28463-1ce8-441d-8b64-9f5f49660069",
     "showTitle": false,
     "tableResultSettingsMap": {},
     "title": ""
    }
   },
   "outputs": [
    {
     "output_type": "display_data",
     "data": {
      "text/html": [
       "<div>\n",
       "<style scoped>\n",
       "    .dataframe tbody tr th:only-of-type {\n",
       "        vertical-align: middle;\n",
       "    }\n",
       "\n",
       "    .dataframe tbody tr th {\n",
       "        vertical-align: top;\n",
       "    }\n",
       "\n",
       "    .dataframe thead th {\n",
       "        text-align: right;\n",
       "    }\n",
       "</style>\n",
       "<table border=\"1\" class=\"dataframe\">\n",
       "  <thead>\n",
       "    <tr style=\"text-align: right;\">\n",
       "      <th></th>\n",
       "      <th>order_date</th>\n",
       "      <th>order_id</th>\n",
       "      <th>product</th>\n",
       "      <th>product_id</th>\n",
       "      <th>category</th>\n",
       "      <th>purchase_address</th>\n",
       "      <th>quantity_ordered</th>\n",
       "      <th>price_each</th>\n",
       "      <th>cost_price</th>\n",
       "      <th>turnover</th>\n",
       "      <th>margin</th>\n",
       "      <th>time_of_day</th>\n",
       "      <th>purchase_state</th>\n",
       "    </tr>\n",
       "  </thead>\n",
       "  <tbody>\n",
       "    <tr>\n",
       "      <th>0</th>\n",
       "      <td>2023-01-22</td>\n",
       "      <td>141234</td>\n",
       "      <td>iphone</td>\n",
       "      <td>5.638009e+12</td>\n",
       "      <td>vêtements</td>\n",
       "      <td>944 walnut st, boston, ma 02215</td>\n",
       "      <td>1</td>\n",
       "      <td>700.00</td>\n",
       "      <td>231.0000</td>\n",
       "      <td>700.00</td>\n",
       "      <td>469.0000</td>\n",
       "      <td>evening</td>\n",
       "      <td>ma</td>\n",
       "    </tr>\n",
       "    <tr>\n",
       "      <th>1</th>\n",
       "      <td>2023-01-28</td>\n",
       "      <td>141235</td>\n",
       "      <td>lightning charging cable</td>\n",
       "      <td>5.563320e+12</td>\n",
       "      <td>alimentation</td>\n",
       "      <td>185 maple st, portland, or 97035</td>\n",
       "      <td>1</td>\n",
       "      <td>14.95</td>\n",
       "      <td>7.4750</td>\n",
       "      <td>14.95</td>\n",
       "      <td>7.4750</td>\n",
       "      <td>afternoon</td>\n",
       "      <td>or</td>\n",
       "    </tr>\n",
       "    <tr>\n",
       "      <th>2</th>\n",
       "      <td>2023-01-17</td>\n",
       "      <td>141236</td>\n",
       "      <td>wired headphones</td>\n",
       "      <td>2.113973e+12</td>\n",
       "      <td>vêtements</td>\n",
       "      <td>538 adams st, san francisco, ca 94016</td>\n",
       "      <td>2</td>\n",
       "      <td>11.99</td>\n",
       "      <td>5.9950</td>\n",
       "      <td>23.98</td>\n",
       "      <td>11.9900</td>\n",
       "      <td>afternoon</td>\n",
       "      <td>ca</td>\n",
       "    </tr>\n",
       "    <tr>\n",
       "      <th>3</th>\n",
       "      <td>2023-01-05</td>\n",
       "      <td>141237</td>\n",
       "      <td>27in fhd monitor</td>\n",
       "      <td>3.069157e+12</td>\n",
       "      <td>sports</td>\n",
       "      <td>738 10th st, los angeles, ca 90001</td>\n",
       "      <td>1</td>\n",
       "      <td>149.99</td>\n",
       "      <td>97.4935</td>\n",
       "      <td>149.99</td>\n",
       "      <td>52.4965</td>\n",
       "      <td>evening</td>\n",
       "      <td>ca</td>\n",
       "    </tr>\n",
       "    <tr>\n",
       "      <th>4</th>\n",
       "      <td>2023-01-25</td>\n",
       "      <td>141238</td>\n",
       "      <td>wired headphones</td>\n",
       "      <td>9.692681e+12</td>\n",
       "      <td>électronique</td>\n",
       "      <td>387 10th st, austin, tx 73301</td>\n",
       "      <td>1</td>\n",
       "      <td>11.99</td>\n",
       "      <td>5.9950</td>\n",
       "      <td>11.99</td>\n",
       "      <td>5.9950</td>\n",
       "      <td>morning</td>\n",
       "      <td>tx</td>\n",
       "    </tr>\n",
       "  </tbody>\n",
       "</table>\n",
       "</div>"
      ]
     },
     "metadata": {
      "application/vnd.databricks.v1+output": {
       "addedWidgets": {},
       "arguments": {},
       "data": "<div>\n<style scoped>\n    .dataframe tbody tr th:only-of-type {\n        vertical-align: middle;\n    }\n\n    .dataframe tbody tr th {\n        vertical-align: top;\n    }\n\n    .dataframe thead th {\n        text-align: right;\n    }\n</style>\n<table border=\"1\" class=\"dataframe\">\n  <thead>\n    <tr style=\"text-align: right;\">\n      <th></th>\n      <th>order_date</th>\n      <th>order_id</th>\n      <th>product</th>\n      <th>product_id</th>\n      <th>category</th>\n      <th>purchase_address</th>\n      <th>quantity_ordered</th>\n      <th>price_each</th>\n      <th>cost_price</th>\n      <th>turnover</th>\n      <th>margin</th>\n      <th>time_of_day</th>\n      <th>purchase_state</th>\n    </tr>\n  </thead>\n  <tbody>\n    <tr>\n      <th>0</th>\n      <td>2023-01-22</td>\n      <td>141234</td>\n      <td>iphone</td>\n      <td>5.638009e+12</td>\n      <td>vêtements</td>\n      <td>944 walnut st, boston, ma 02215</td>\n      <td>1</td>\n      <td>700.00</td>\n      <td>231.0000</td>\n      <td>700.00</td>\n      <td>469.0000</td>\n      <td>evening</td>\n      <td>ma</td>\n    </tr>\n    <tr>\n      <th>1</th>\n      <td>2023-01-28</td>\n      <td>141235</td>\n      <td>lightning charging cable</td>\n      <td>5.563320e+12</td>\n      <td>alimentation</td>\n      <td>185 maple st, portland, or 97035</td>\n      <td>1</td>\n      <td>14.95</td>\n      <td>7.4750</td>\n      <td>14.95</td>\n      <td>7.4750</td>\n      <td>afternoon</td>\n      <td>or</td>\n    </tr>\n    <tr>\n      <th>2</th>\n      <td>2023-01-17</td>\n      <td>141236</td>\n      <td>wired headphones</td>\n      <td>2.113973e+12</td>\n      <td>vêtements</td>\n      <td>538 adams st, san francisco, ca 94016</td>\n      <td>2</td>\n      <td>11.99</td>\n      <td>5.9950</td>\n      <td>23.98</td>\n      <td>11.9900</td>\n      <td>afternoon</td>\n      <td>ca</td>\n    </tr>\n    <tr>\n      <th>3</th>\n      <td>2023-01-05</td>\n      <td>141237</td>\n      <td>27in fhd monitor</td>\n      <td>3.069157e+12</td>\n      <td>sports</td>\n      <td>738 10th st, los angeles, ca 90001</td>\n      <td>1</td>\n      <td>149.99</td>\n      <td>97.4935</td>\n      <td>149.99</td>\n      <td>52.4965</td>\n      <td>evening</td>\n      <td>ca</td>\n    </tr>\n    <tr>\n      <th>4</th>\n      <td>2023-01-25</td>\n      <td>141238</td>\n      <td>wired headphones</td>\n      <td>9.692681e+12</td>\n      <td>électronique</td>\n      <td>387 10th st, austin, tx 73301</td>\n      <td>1</td>\n      <td>11.99</td>\n      <td>5.9950</td>\n      <td>11.99</td>\n      <td>5.9950</td>\n      <td>morning</td>\n      <td>tx</td>\n    </tr>\n  </tbody>\n</table>\n</div>",
       "datasetInfos": [],
       "metadata": {},
       "removedWidgets": [],
       "textData": null,
       "type": "htmlSandbox"
      }
     },
     "output_type": "display_data"
    }
   ],
   "source": [
    "state_extracted_df = lowercase_df.withColumn(\n",
    "    'purchase_state',\n",
    "    F.split(F.col('purchase_address'), ', ')[2].substr(1, 2)  \n",
    ")\n",
    "\n",
    "state_extracted_df.toPandas().head()\n"
   ]
  },
  {
   "cell_type": "markdown",
   "metadata": {
    "application/vnd.databricks.v1+cell": {
     "cellMetadata": {},
     "inputWidgets": {},
     "nuid": "2259e00e-1eb6-4401-8613-9d844732ae44",
     "showTitle": false,
     "tableResultSettingsMap": {},
     "title": ""
    }
   },
   "source": [
    "Este codigo te le explico un poco mas porque la parte del split puede ser un poco liosa. Esto funciona y se puede hacer asi porque todas las direcciones llevan el mismo formato, sino habria que limpiar eso tmb"
   ]
  },
  {
   "cell_type": "markdown",
   "metadata": {
    "application/vnd.databricks.v1+cell": {
     "cellMetadata": {},
     "inputWidgets": {},
     "nuid": "7bbc440a-cb15-4cc0-a818-4ace1a87dd00",
     "showTitle": false,
     "tableResultSettingsMap": {},
     "title": ""
    }
   },
   "source": [
    "> Aqui se usa el split que nos separa el campo en partes, en algo como asi `['944 walnut st', 'boston', 'ma 02215']`, lo divide segun las comas. \n",
    "\n",
    ">Luego con el `(2)` tenemos indicado que esta el estado en la tercera division, que esto empieza a contar en cero. \n",
    "\n",
    "> Y luego el `.substr(1, 2)` para pillar solo los dos primeros caracteres de esta parte que esos ya son los códigos de estado"
   ]
  },
  {
   "cell_type": "markdown",
   "metadata": {
    "application/vnd.databricks.v1+cell": {
     "cellMetadata": {},
     "inputWidgets": {},
     "nuid": "9507051e-f38d-493e-b614-567508fb5c79",
     "showTitle": false,
     "tableResultSettingsMap": {},
     "title": ""
    }
   },
   "source": [
    "Se acaba de indicar que el estado este preferblemente en mayusculas asiq edito el codigo aqui para que la nueva columna tenga las dos letras en mayucula a pesar de ser extraidas en minuscula"
   ]
  },
  {
   "cell_type": "code",
   "execution_count": 0,
   "metadata": {
    "application/vnd.databricks.v1+cell": {
     "cellMetadata": {
      "byteLimit": 2048000,
      "rowLimit": 10000
     },
     "inputWidgets": {},
     "nuid": "bf15e690-5af2-4a0c-babb-4dd67d8fe28e",
     "showTitle": false,
     "tableResultSettingsMap": {},
     "title": ""
    }
   },
   "outputs": [
    {
     "output_type": "display_data",
     "data": {
      "text/html": [
       "<div>\n",
       "<style scoped>\n",
       "    .dataframe tbody tr th:only-of-type {\n",
       "        vertical-align: middle;\n",
       "    }\n",
       "\n",
       "    .dataframe tbody tr th {\n",
       "        vertical-align: top;\n",
       "    }\n",
       "\n",
       "    .dataframe thead th {\n",
       "        text-align: right;\n",
       "    }\n",
       "</style>\n",
       "<table border=\"1\" class=\"dataframe\">\n",
       "  <thead>\n",
       "    <tr style=\"text-align: right;\">\n",
       "      <th></th>\n",
       "      <th>order_date</th>\n",
       "      <th>order_id</th>\n",
       "      <th>product</th>\n",
       "      <th>product_id</th>\n",
       "      <th>category</th>\n",
       "      <th>purchase_address</th>\n",
       "      <th>quantity_ordered</th>\n",
       "      <th>price_each</th>\n",
       "      <th>cost_price</th>\n",
       "      <th>turnover</th>\n",
       "      <th>margin</th>\n",
       "      <th>time_of_day</th>\n",
       "      <th>purchase_state</th>\n",
       "    </tr>\n",
       "  </thead>\n",
       "  <tbody>\n",
       "    <tr>\n",
       "      <th>0</th>\n",
       "      <td>2023-01-22</td>\n",
       "      <td>141234</td>\n",
       "      <td>iphone</td>\n",
       "      <td>5.638009e+12</td>\n",
       "      <td>vêtements</td>\n",
       "      <td>944 walnut st, boston, ma 02215</td>\n",
       "      <td>1</td>\n",
       "      <td>700.00</td>\n",
       "      <td>231.0000</td>\n",
       "      <td>700.00</td>\n",
       "      <td>469.0000</td>\n",
       "      <td>evening</td>\n",
       "      <td>MA</td>\n",
       "    </tr>\n",
       "    <tr>\n",
       "      <th>1</th>\n",
       "      <td>2023-01-28</td>\n",
       "      <td>141235</td>\n",
       "      <td>lightning charging cable</td>\n",
       "      <td>5.563320e+12</td>\n",
       "      <td>alimentation</td>\n",
       "      <td>185 maple st, portland, or 97035</td>\n",
       "      <td>1</td>\n",
       "      <td>14.95</td>\n",
       "      <td>7.4750</td>\n",
       "      <td>14.95</td>\n",
       "      <td>7.4750</td>\n",
       "      <td>afternoon</td>\n",
       "      <td>OR</td>\n",
       "    </tr>\n",
       "    <tr>\n",
       "      <th>2</th>\n",
       "      <td>2023-01-17</td>\n",
       "      <td>141236</td>\n",
       "      <td>wired headphones</td>\n",
       "      <td>2.113973e+12</td>\n",
       "      <td>vêtements</td>\n",
       "      <td>538 adams st, san francisco, ca 94016</td>\n",
       "      <td>2</td>\n",
       "      <td>11.99</td>\n",
       "      <td>5.9950</td>\n",
       "      <td>23.98</td>\n",
       "      <td>11.9900</td>\n",
       "      <td>afternoon</td>\n",
       "      <td>CA</td>\n",
       "    </tr>\n",
       "    <tr>\n",
       "      <th>3</th>\n",
       "      <td>2023-01-05</td>\n",
       "      <td>141237</td>\n",
       "      <td>27in fhd monitor</td>\n",
       "      <td>3.069157e+12</td>\n",
       "      <td>sports</td>\n",
       "      <td>738 10th st, los angeles, ca 90001</td>\n",
       "      <td>1</td>\n",
       "      <td>149.99</td>\n",
       "      <td>97.4935</td>\n",
       "      <td>149.99</td>\n",
       "      <td>52.4965</td>\n",
       "      <td>evening</td>\n",
       "      <td>CA</td>\n",
       "    </tr>\n",
       "    <tr>\n",
       "      <th>4</th>\n",
       "      <td>2023-01-25</td>\n",
       "      <td>141238</td>\n",
       "      <td>wired headphones</td>\n",
       "      <td>9.692681e+12</td>\n",
       "      <td>électronique</td>\n",
       "      <td>387 10th st, austin, tx 73301</td>\n",
       "      <td>1</td>\n",
       "      <td>11.99</td>\n",
       "      <td>5.9950</td>\n",
       "      <td>11.99</td>\n",
       "      <td>5.9950</td>\n",
       "      <td>morning</td>\n",
       "      <td>TX</td>\n",
       "    </tr>\n",
       "  </tbody>\n",
       "</table>\n",
       "</div>"
      ]
     },
     "metadata": {
      "application/vnd.databricks.v1+output": {
       "addedWidgets": {},
       "arguments": {},
       "data": "<div>\n<style scoped>\n    .dataframe tbody tr th:only-of-type {\n        vertical-align: middle;\n    }\n\n    .dataframe tbody tr th {\n        vertical-align: top;\n    }\n\n    .dataframe thead th {\n        text-align: right;\n    }\n</style>\n<table border=\"1\" class=\"dataframe\">\n  <thead>\n    <tr style=\"text-align: right;\">\n      <th></th>\n      <th>order_date</th>\n      <th>order_id</th>\n      <th>product</th>\n      <th>product_id</th>\n      <th>category</th>\n      <th>purchase_address</th>\n      <th>quantity_ordered</th>\n      <th>price_each</th>\n      <th>cost_price</th>\n      <th>turnover</th>\n      <th>margin</th>\n      <th>time_of_day</th>\n      <th>purchase_state</th>\n    </tr>\n  </thead>\n  <tbody>\n    <tr>\n      <th>0</th>\n      <td>2023-01-22</td>\n      <td>141234</td>\n      <td>iphone</td>\n      <td>5.638009e+12</td>\n      <td>vêtements</td>\n      <td>944 walnut st, boston, ma 02215</td>\n      <td>1</td>\n      <td>700.00</td>\n      <td>231.0000</td>\n      <td>700.00</td>\n      <td>469.0000</td>\n      <td>evening</td>\n      <td>MA</td>\n    </tr>\n    <tr>\n      <th>1</th>\n      <td>2023-01-28</td>\n      <td>141235</td>\n      <td>lightning charging cable</td>\n      <td>5.563320e+12</td>\n      <td>alimentation</td>\n      <td>185 maple st, portland, or 97035</td>\n      <td>1</td>\n      <td>14.95</td>\n      <td>7.4750</td>\n      <td>14.95</td>\n      <td>7.4750</td>\n      <td>afternoon</td>\n      <td>OR</td>\n    </tr>\n    <tr>\n      <th>2</th>\n      <td>2023-01-17</td>\n      <td>141236</td>\n      <td>wired headphones</td>\n      <td>2.113973e+12</td>\n      <td>vêtements</td>\n      <td>538 adams st, san francisco, ca 94016</td>\n      <td>2</td>\n      <td>11.99</td>\n      <td>5.9950</td>\n      <td>23.98</td>\n      <td>11.9900</td>\n      <td>afternoon</td>\n      <td>CA</td>\n    </tr>\n    <tr>\n      <th>3</th>\n      <td>2023-01-05</td>\n      <td>141237</td>\n      <td>27in fhd monitor</td>\n      <td>3.069157e+12</td>\n      <td>sports</td>\n      <td>738 10th st, los angeles, ca 90001</td>\n      <td>1</td>\n      <td>149.99</td>\n      <td>97.4935</td>\n      <td>149.99</td>\n      <td>52.4965</td>\n      <td>evening</td>\n      <td>CA</td>\n    </tr>\n    <tr>\n      <th>4</th>\n      <td>2023-01-25</td>\n      <td>141238</td>\n      <td>wired headphones</td>\n      <td>9.692681e+12</td>\n      <td>électronique</td>\n      <td>387 10th st, austin, tx 73301</td>\n      <td>1</td>\n      <td>11.99</td>\n      <td>5.9950</td>\n      <td>11.99</td>\n      <td>5.9950</td>\n      <td>morning</td>\n      <td>TX</td>\n    </tr>\n  </tbody>\n</table>\n</div>",
       "datasetInfos": [],
       "metadata": {},
       "removedWidgets": [],
       "textData": null,
       "type": "htmlSandbox"
      }
     },
     "output_type": "display_data"
    }
   ],
   "source": [
    "# Extraer el estado del campo `purchase_address` y convertirlo a mayúsculas\n",
    "state_extracted_df = lowercase_df.withColumn(\n",
    "    'purchase_state',\n",
    "    F.upper(F.split(F.col('purchase_address'), ', ')[2].substr(1, 2))  # Convertir a mayúsculas\n",
    ")\n",
    "\n",
    "state_extracted_df.toPandas().head()"
   ]
  },
  {
   "cell_type": "markdown",
   "metadata": {
    "application/vnd.databricks.v1+cell": {
     "cellMetadata": {},
     "inputWidgets": {},
     "nuid": "23f013a7-a280-49f7-acf9-e6c47a6fd085",
     "showTitle": false,
     "tableResultSettingsMap": {},
     "title": ""
    }
   },
   "source": [
    "## 6. Guardar archivo final limpio con nombre `orders_data_clean.parquet`"
   ]
  },
  {
   "cell_type": "code",
   "execution_count": 0,
   "metadata": {
    "application/vnd.databricks.v1+cell": {
     "cellMetadata": {
      "byteLimit": 2048000,
      "rowLimit": 10000
     },
     "inputWidgets": {},
     "nuid": "97557436-96f2-44a1-a35f-21e9b1d51a19",
     "showTitle": false,
     "tableResultSettingsMap": {},
     "title": ""
    }
   },
   "outputs": [],
   "source": [
    "state_extracted_df.write.mode('overwrite').parquet('dbfs:/FileStore/orders_data_clean.parquet')"
   ]
  },
  {
   "cell_type": "markdown",
   "metadata": {
    "application/vnd.databricks.v1+cell": {
     "cellMetadata": {},
     "inputWidgets": {},
     "nuid": "f5d2cee0-56a4-442e-b8c2-55f54c81ff43",
     "showTitle": false,
     "tableResultSettingsMap": {},
     "title": ""
    }
   },
   "source": [
    "Comprobamos que el archivo se haya guardado bien por si acaso \n",
    "\n",
    "\n",
    "----->"
   ]
  },
  {
   "cell_type": "code",
   "execution_count": 0,
   "metadata": {
    "application/vnd.databricks.v1+cell": {
     "cellMetadata": {
      "byteLimit": 2048000,
      "rowLimit": 10000
     },
     "inputWidgets": {},
     "nuid": "145c6910-acef-49f4-9ab9-676321921a0d",
     "showTitle": false,
     "tableResultSettingsMap": {},
     "title": ""
    }
   },
   "outputs": [
    {
     "output_type": "display_data",
     "data": {
      "text/html": [
       "<div>\n",
       "<style scoped>\n",
       "    .dataframe tbody tr th:only-of-type {\n",
       "        vertical-align: middle;\n",
       "    }\n",
       "\n",
       "    .dataframe tbody tr th {\n",
       "        vertical-align: top;\n",
       "    }\n",
       "\n",
       "    .dataframe thead th {\n",
       "        text-align: right;\n",
       "    }\n",
       "</style>\n",
       "<table border=\"1\" class=\"dataframe\">\n",
       "  <thead>\n",
       "    <tr style=\"text-align: right;\">\n",
       "      <th></th>\n",
       "      <th>order_date</th>\n",
       "      <th>order_id</th>\n",
       "      <th>product</th>\n",
       "      <th>product_id</th>\n",
       "      <th>category</th>\n",
       "      <th>purchase_address</th>\n",
       "      <th>quantity_ordered</th>\n",
       "      <th>price_each</th>\n",
       "      <th>cost_price</th>\n",
       "      <th>turnover</th>\n",
       "      <th>margin</th>\n",
       "      <th>time_of_day</th>\n",
       "      <th>purchase_state</th>\n",
       "    </tr>\n",
       "  </thead>\n",
       "  <tbody>\n",
       "    <tr>\n",
       "      <th>0</th>\n",
       "      <td>2023-01-22</td>\n",
       "      <td>141234</td>\n",
       "      <td>iphone</td>\n",
       "      <td>5.638009e+12</td>\n",
       "      <td>vêtements</td>\n",
       "      <td>944 walnut st, boston, ma 02215</td>\n",
       "      <td>1</td>\n",
       "      <td>700.00</td>\n",
       "      <td>231.0000</td>\n",
       "      <td>700.00</td>\n",
       "      <td>469.0000</td>\n",
       "      <td>evening</td>\n",
       "      <td>MA</td>\n",
       "    </tr>\n",
       "    <tr>\n",
       "      <th>1</th>\n",
       "      <td>2023-01-28</td>\n",
       "      <td>141235</td>\n",
       "      <td>lightning charging cable</td>\n",
       "      <td>5.563320e+12</td>\n",
       "      <td>alimentation</td>\n",
       "      <td>185 maple st, portland, or 97035</td>\n",
       "      <td>1</td>\n",
       "      <td>14.95</td>\n",
       "      <td>7.4750</td>\n",
       "      <td>14.95</td>\n",
       "      <td>7.4750</td>\n",
       "      <td>afternoon</td>\n",
       "      <td>OR</td>\n",
       "    </tr>\n",
       "    <tr>\n",
       "      <th>2</th>\n",
       "      <td>2023-01-17</td>\n",
       "      <td>141236</td>\n",
       "      <td>wired headphones</td>\n",
       "      <td>2.113973e+12</td>\n",
       "      <td>vêtements</td>\n",
       "      <td>538 adams st, san francisco, ca 94016</td>\n",
       "      <td>2</td>\n",
       "      <td>11.99</td>\n",
       "      <td>5.9950</td>\n",
       "      <td>23.98</td>\n",
       "      <td>11.9900</td>\n",
       "      <td>afternoon</td>\n",
       "      <td>CA</td>\n",
       "    </tr>\n",
       "    <tr>\n",
       "      <th>3</th>\n",
       "      <td>2023-01-05</td>\n",
       "      <td>141237</td>\n",
       "      <td>27in fhd monitor</td>\n",
       "      <td>3.069157e+12</td>\n",
       "      <td>sports</td>\n",
       "      <td>738 10th st, los angeles, ca 90001</td>\n",
       "      <td>1</td>\n",
       "      <td>149.99</td>\n",
       "      <td>97.4935</td>\n",
       "      <td>149.99</td>\n",
       "      <td>52.4965</td>\n",
       "      <td>evening</td>\n",
       "      <td>CA</td>\n",
       "    </tr>\n",
       "    <tr>\n",
       "      <th>4</th>\n",
       "      <td>2023-01-25</td>\n",
       "      <td>141238</td>\n",
       "      <td>wired headphones</td>\n",
       "      <td>9.692681e+12</td>\n",
       "      <td>électronique</td>\n",
       "      <td>387 10th st, austin, tx 73301</td>\n",
       "      <td>1</td>\n",
       "      <td>11.99</td>\n",
       "      <td>5.9950</td>\n",
       "      <td>11.99</td>\n",
       "      <td>5.9950</td>\n",
       "      <td>morning</td>\n",
       "      <td>TX</td>\n",
       "    </tr>\n",
       "  </tbody>\n",
       "</table>\n",
       "</div>"
      ]
     },
     "metadata": {
      "application/vnd.databricks.v1+output": {
       "addedWidgets": {},
       "arguments": {},
       "data": "<div>\n<style scoped>\n    .dataframe tbody tr th:only-of-type {\n        vertical-align: middle;\n    }\n\n    .dataframe tbody tr th {\n        vertical-align: top;\n    }\n\n    .dataframe thead th {\n        text-align: right;\n    }\n</style>\n<table border=\"1\" class=\"dataframe\">\n  <thead>\n    <tr style=\"text-align: right;\">\n      <th></th>\n      <th>order_date</th>\n      <th>order_id</th>\n      <th>product</th>\n      <th>product_id</th>\n      <th>category</th>\n      <th>purchase_address</th>\n      <th>quantity_ordered</th>\n      <th>price_each</th>\n      <th>cost_price</th>\n      <th>turnover</th>\n      <th>margin</th>\n      <th>time_of_day</th>\n      <th>purchase_state</th>\n    </tr>\n  </thead>\n  <tbody>\n    <tr>\n      <th>0</th>\n      <td>2023-01-22</td>\n      <td>141234</td>\n      <td>iphone</td>\n      <td>5.638009e+12</td>\n      <td>vêtements</td>\n      <td>944 walnut st, boston, ma 02215</td>\n      <td>1</td>\n      <td>700.00</td>\n      <td>231.0000</td>\n      <td>700.00</td>\n      <td>469.0000</td>\n      <td>evening</td>\n      <td>MA</td>\n    </tr>\n    <tr>\n      <th>1</th>\n      <td>2023-01-28</td>\n      <td>141235</td>\n      <td>lightning charging cable</td>\n      <td>5.563320e+12</td>\n      <td>alimentation</td>\n      <td>185 maple st, portland, or 97035</td>\n      <td>1</td>\n      <td>14.95</td>\n      <td>7.4750</td>\n      <td>14.95</td>\n      <td>7.4750</td>\n      <td>afternoon</td>\n      <td>OR</td>\n    </tr>\n    <tr>\n      <th>2</th>\n      <td>2023-01-17</td>\n      <td>141236</td>\n      <td>wired headphones</td>\n      <td>2.113973e+12</td>\n      <td>vêtements</td>\n      <td>538 adams st, san francisco, ca 94016</td>\n      <td>2</td>\n      <td>11.99</td>\n      <td>5.9950</td>\n      <td>23.98</td>\n      <td>11.9900</td>\n      <td>afternoon</td>\n      <td>CA</td>\n    </tr>\n    <tr>\n      <th>3</th>\n      <td>2023-01-05</td>\n      <td>141237</td>\n      <td>27in fhd monitor</td>\n      <td>3.069157e+12</td>\n      <td>sports</td>\n      <td>738 10th st, los angeles, ca 90001</td>\n      <td>1</td>\n      <td>149.99</td>\n      <td>97.4935</td>\n      <td>149.99</td>\n      <td>52.4965</td>\n      <td>evening</td>\n      <td>CA</td>\n    </tr>\n    <tr>\n      <th>4</th>\n      <td>2023-01-25</td>\n      <td>141238</td>\n      <td>wired headphones</td>\n      <td>9.692681e+12</td>\n      <td>électronique</td>\n      <td>387 10th st, austin, tx 73301</td>\n      <td>1</td>\n      <td>11.99</td>\n      <td>5.9950</td>\n      <td>11.99</td>\n      <td>5.9950</td>\n      <td>morning</td>\n      <td>TX</td>\n    </tr>\n  </tbody>\n</table>\n</div>",
       "datasetInfos": [],
       "metadata": {},
       "removedWidgets": [],
       "textData": null,
       "type": "htmlSandbox"
      }
     },
     "output_type": "display_data"
    }
   ],
   "source": [
    "test_df = spark.read.parquet('dbfs:/FileStore/orders_data_clean.parquet')\n",
    "test_csv_pandas_df = test_df.toPandas()\n",
    "\n",
    "test_csv_pandas_df.head()"
   ]
  },
  {
   "cell_type": "markdown",
   "metadata": {
    "application/vnd.databricks.v1+cell": {
     "cellMetadata": {},
     "inputWidgets": {},
     "nuid": "acadfad6-daff-4835-b737-fafa5d535f51",
     "showTitle": false,
     "tableResultSettingsMap": {},
     "title": ""
    }
   },
   "source": [
    "## 7. Exportar archivo limpio en formato CSV "
   ]
  },
  {
   "cell_type": "code",
   "execution_count": 0,
   "metadata": {
    "application/vnd.databricks.v1+cell": {
     "cellMetadata": {
      "byteLimit": 2048000,
      "rowLimit": 10000
     },
     "inputWidgets": {},
     "nuid": "bec31b78-7561-4297-9fda-7960c45cda5c",
     "showTitle": false,
     "tableResultSettingsMap": {},
     "title": ""
    }
   },
   "outputs": [],
   "source": [
    "# Guardar el DataFrame final como un archivo CSV\n",
    "state_extracted_df.write.mode('overwrite') \\\n",
    "    .option('header', True) \\\n",
    "    .csv('dbfs:/FileStore/orders_data_clean.csv')"
   ]
  },
  {
   "cell_type": "markdown",
   "metadata": {
    "application/vnd.databricks.v1+cell": {
     "cellMetadata": {},
     "inputWidgets": {},
     "nuid": "56990c67-f475-4a12-855e-2c645f34ae0a",
     "showTitle": false,
     "tableResultSettingsMap": {},
     "title": ""
    }
   },
   "source": [
    "Comprobamos que el archivo se haya guardado bien por si acaso \n",
    "\n",
    "----->"
   ]
  },
  {
   "cell_type": "code",
   "execution_count": 0,
   "metadata": {
    "application/vnd.databricks.v1+cell": {
     "cellMetadata": {
      "byteLimit": 2048000,
      "rowLimit": 10000
     },
     "inputWidgets": {},
     "nuid": "1cd41736-7f61-401b-ac95-7d7b14088c5e",
     "showTitle": false,
     "tableResultSettingsMap": {},
     "title": ""
    }
   },
   "outputs": [
    {
     "output_type": "display_data",
     "data": {
      "text/html": [
       "<div>\n",
       "<style scoped>\n",
       "    .dataframe tbody tr th:only-of-type {\n",
       "        vertical-align: middle;\n",
       "    }\n",
       "\n",
       "    .dataframe tbody tr th {\n",
       "        vertical-align: top;\n",
       "    }\n",
       "\n",
       "    .dataframe thead th {\n",
       "        text-align: right;\n",
       "    }\n",
       "</style>\n",
       "<table border=\"1\" class=\"dataframe\">\n",
       "  <thead>\n",
       "    <tr style=\"text-align: right;\">\n",
       "      <th></th>\n",
       "      <th>order_date</th>\n",
       "      <th>order_id</th>\n",
       "      <th>product</th>\n",
       "      <th>product_id</th>\n",
       "      <th>category</th>\n",
       "      <th>purchase_address</th>\n",
       "      <th>quantity_ordered</th>\n",
       "      <th>price_each</th>\n",
       "      <th>cost_price</th>\n",
       "      <th>turnover</th>\n",
       "      <th>margin</th>\n",
       "      <th>time_of_day</th>\n",
       "      <th>purchase_state</th>\n",
       "    </tr>\n",
       "  </thead>\n",
       "  <tbody>\n",
       "    <tr>\n",
       "      <th>0</th>\n",
       "      <td>2023-01-22</td>\n",
       "      <td>141234</td>\n",
       "      <td>iphone</td>\n",
       "      <td>5.638009e+12</td>\n",
       "      <td>vêtements</td>\n",
       "      <td>944 walnut st, boston, ma 02215</td>\n",
       "      <td>1</td>\n",
       "      <td>700.00</td>\n",
       "      <td>231.0000</td>\n",
       "      <td>700.00</td>\n",
       "      <td>469.0000</td>\n",
       "      <td>evening</td>\n",
       "      <td>MA</td>\n",
       "    </tr>\n",
       "    <tr>\n",
       "      <th>1</th>\n",
       "      <td>2023-01-28</td>\n",
       "      <td>141235</td>\n",
       "      <td>lightning charging cable</td>\n",
       "      <td>5.563320e+12</td>\n",
       "      <td>alimentation</td>\n",
       "      <td>185 maple st, portland, or 97035</td>\n",
       "      <td>1</td>\n",
       "      <td>14.95</td>\n",
       "      <td>7.4750</td>\n",
       "      <td>14.95</td>\n",
       "      <td>7.4750</td>\n",
       "      <td>afternoon</td>\n",
       "      <td>OR</td>\n",
       "    </tr>\n",
       "    <tr>\n",
       "      <th>2</th>\n",
       "      <td>2023-01-17</td>\n",
       "      <td>141236</td>\n",
       "      <td>wired headphones</td>\n",
       "      <td>2.113973e+12</td>\n",
       "      <td>vêtements</td>\n",
       "      <td>538 adams st, san francisco, ca 94016</td>\n",
       "      <td>2</td>\n",
       "      <td>11.99</td>\n",
       "      <td>5.9950</td>\n",
       "      <td>23.98</td>\n",
       "      <td>11.9900</td>\n",
       "      <td>afternoon</td>\n",
       "      <td>CA</td>\n",
       "    </tr>\n",
       "    <tr>\n",
       "      <th>3</th>\n",
       "      <td>2023-01-05</td>\n",
       "      <td>141237</td>\n",
       "      <td>27in fhd monitor</td>\n",
       "      <td>3.069157e+12</td>\n",
       "      <td>sports</td>\n",
       "      <td>738 10th st, los angeles, ca 90001</td>\n",
       "      <td>1</td>\n",
       "      <td>149.99</td>\n",
       "      <td>97.4935</td>\n",
       "      <td>149.99</td>\n",
       "      <td>52.4965</td>\n",
       "      <td>evening</td>\n",
       "      <td>CA</td>\n",
       "    </tr>\n",
       "    <tr>\n",
       "      <th>4</th>\n",
       "      <td>2023-01-25</td>\n",
       "      <td>141238</td>\n",
       "      <td>wired headphones</td>\n",
       "      <td>9.692681e+12</td>\n",
       "      <td>électronique</td>\n",
       "      <td>387 10th st, austin, tx 73301</td>\n",
       "      <td>1</td>\n",
       "      <td>11.99</td>\n",
       "      <td>5.9950</td>\n",
       "      <td>11.99</td>\n",
       "      <td>5.9950</td>\n",
       "      <td>morning</td>\n",
       "      <td>TX</td>\n",
       "    </tr>\n",
       "  </tbody>\n",
       "</table>\n",
       "</div>"
      ]
     },
     "metadata": {
      "application/vnd.databricks.v1+output": {
       "addedWidgets": {},
       "arguments": {},
       "data": "<div>\n<style scoped>\n    .dataframe tbody tr th:only-of-type {\n        vertical-align: middle;\n    }\n\n    .dataframe tbody tr th {\n        vertical-align: top;\n    }\n\n    .dataframe thead th {\n        text-align: right;\n    }\n</style>\n<table border=\"1\" class=\"dataframe\">\n  <thead>\n    <tr style=\"text-align: right;\">\n      <th></th>\n      <th>order_date</th>\n      <th>order_id</th>\n      <th>product</th>\n      <th>product_id</th>\n      <th>category</th>\n      <th>purchase_address</th>\n      <th>quantity_ordered</th>\n      <th>price_each</th>\n      <th>cost_price</th>\n      <th>turnover</th>\n      <th>margin</th>\n      <th>time_of_day</th>\n      <th>purchase_state</th>\n    </tr>\n  </thead>\n  <tbody>\n    <tr>\n      <th>0</th>\n      <td>2023-01-22</td>\n      <td>141234</td>\n      <td>iphone</td>\n      <td>5.638009e+12</td>\n      <td>vêtements</td>\n      <td>944 walnut st, boston, ma 02215</td>\n      <td>1</td>\n      <td>700.00</td>\n      <td>231.0000</td>\n      <td>700.00</td>\n      <td>469.0000</td>\n      <td>evening</td>\n      <td>MA</td>\n    </tr>\n    <tr>\n      <th>1</th>\n      <td>2023-01-28</td>\n      <td>141235</td>\n      <td>lightning charging cable</td>\n      <td>5.563320e+12</td>\n      <td>alimentation</td>\n      <td>185 maple st, portland, or 97035</td>\n      <td>1</td>\n      <td>14.95</td>\n      <td>7.4750</td>\n      <td>14.95</td>\n      <td>7.4750</td>\n      <td>afternoon</td>\n      <td>OR</td>\n    </tr>\n    <tr>\n      <th>2</th>\n      <td>2023-01-17</td>\n      <td>141236</td>\n      <td>wired headphones</td>\n      <td>2.113973e+12</td>\n      <td>vêtements</td>\n      <td>538 adams st, san francisco, ca 94016</td>\n      <td>2</td>\n      <td>11.99</td>\n      <td>5.9950</td>\n      <td>23.98</td>\n      <td>11.9900</td>\n      <td>afternoon</td>\n      <td>CA</td>\n    </tr>\n    <tr>\n      <th>3</th>\n      <td>2023-01-05</td>\n      <td>141237</td>\n      <td>27in fhd monitor</td>\n      <td>3.069157e+12</td>\n      <td>sports</td>\n      <td>738 10th st, los angeles, ca 90001</td>\n      <td>1</td>\n      <td>149.99</td>\n      <td>97.4935</td>\n      <td>149.99</td>\n      <td>52.4965</td>\n      <td>evening</td>\n      <td>CA</td>\n    </tr>\n    <tr>\n      <th>4</th>\n      <td>2023-01-25</td>\n      <td>141238</td>\n      <td>wired headphones</td>\n      <td>9.692681e+12</td>\n      <td>électronique</td>\n      <td>387 10th st, austin, tx 73301</td>\n      <td>1</td>\n      <td>11.99</td>\n      <td>5.9950</td>\n      <td>11.99</td>\n      <td>5.9950</td>\n      <td>morning</td>\n      <td>TX</td>\n    </tr>\n  </tbody>\n</table>\n</div>",
       "datasetInfos": [],
       "metadata": {},
       "removedWidgets": [],
       "textData": null,
       "type": "htmlSandbox"
      }
     },
     "output_type": "display_data"
    }
   ],
   "source": [
    "test_csv_df = spark.read.csv('dbfs:/FileStore/orders_data_clean.csv', header=True, inferSchema=True)\n",
    "test_csv_pandas_df = test_csv_df.toPandas()\n",
    "\n",
    "test_csv_pandas_df.head()\n"
   ]
  },
  {
   "cell_type": "markdown",
   "metadata": {
    "application/vnd.databricks.v1+cell": {
     "cellMetadata": {},
     "inputWidgets": {},
     "nuid": "473be687-a9ea-4526-945d-557414e29ab6",
     "showTitle": false,
     "tableResultSettingsMap": {},
     "title": ""
    }
   },
   "source": []
  }
 ],
 "metadata": {
  "application/vnd.databricks.v1+notebook": {
   "dashboards": [],
   "environmentMetadata": null,
   "language": "python",
   "notebookMetadata": {
    "pythonIndentUnit": 4
   },
   "notebookName": "Caso1",
   "widgets": {}
  }
 },
 "nbformat": 4,
 "nbformat_minor": 0
}
