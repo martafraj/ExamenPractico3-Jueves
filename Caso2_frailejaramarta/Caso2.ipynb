{
 "cells": [
  {
   "cell_type": "markdown",
   "metadata": {
    "application/vnd.databricks.v1+cell": {
     "cellMetadata": {},
     "inputWidgets": {},
     "nuid": "a1cf93c7-b5d0-46b2-8f78-201ce2c6f765",
     "showTitle": false,
     "tableResultSettingsMap": {},
     "title": ""
    }
   },
   "source": [
    "# Encontrando insights de la UEFA Champions League"
   ]
  },
  {
   "cell_type": "code",
   "execution_count": 0,
   "metadata": {
    "application/vnd.databricks.v1+cell": {
     "cellMetadata": {
      "byteLimit": 2048000,
      "rowLimit": 10000
     },
     "inputWidgets": {},
     "nuid": "758846a5-ab0d-4015-8c06-7f76cdf0e319",
     "showTitle": false,
     "tableResultSettingsMap": {},
     "title": ""
    }
   },
   "outputs": [],
   "source": [
    "from pyspark.sql import (\n",
    "    SparkSession,\n",
    "    types,\n",
    "    functions as F,\n",
    ")\n",
    "\n",
    "spark = (\n",
    "    SparkSession\n",
    "    .builder\n",
    "    .appName('uefa')\n",
    "    .getOrCreate()\n",
    ")"
   ]
  },
  {
   "cell_type": "code",
   "execution_count": 0,
   "metadata": {
    "application/vnd.databricks.v1+cell": {
     "cellMetadata": {
      "byteLimit": 2048000,
      "rowLimit": 10000
     },
     "inputWidgets": {},
     "nuid": "ec6dcb80-de8b-4628-81be-680ffc903e5d",
     "showTitle": false,
     "tableResultSettingsMap": {},
     "title": ""
    }
   },
   "outputs": [
    {
     "name": "stdout",
     "output_type": "stream",
     "text": [
      "root\n",
      " |-- STAGE: string (nullable = true)\n",
      " |-- DATE: string (nullable = true)\n",
      " |-- PENS: boolean (nullable = true)\n",
      " |-- PENS_HOME_SCORE: boolean (nullable = true)\n",
      " |-- PENS_AWAY_SCORE: boolean (nullable = true)\n",
      " |-- TEAM_NAME_HOME: string (nullable = true)\n",
      " |-- TEAM_NAME_AWAY: string (nullable = true)\n",
      " |-- TEAM_HOME_SCORE: integer (nullable = true)\n",
      " |-- TEAM_AWAY_SCORE: integer (nullable = true)\n",
      " |-- POSSESSION_HOME: string (nullable = true)\n",
      " |-- POSSESSION_AWAY: string (nullable = true)\n",
      " |-- TOTAL_SHOTS_HOME: integer (nullable = true)\n",
      " |-- TOTAL_SHOTS_AWAY: integer (nullable = true)\n",
      " |-- SHOTS_ON_TARGET_HOME: integer (nullable = true)\n",
      " |-- SHOTS_ON_TARGET_AWAY: integer (nullable = true)\n",
      " |-- DUELS_WON_HOME: string (nullable = true)\n",
      " |-- DUELS_WON_AWAY: string (nullable = true)\n",
      " |-- PREDICTION_TEAM_HOME_WIN: string (nullable = true)\n",
      " |-- PREDICTION_DRAW: string (nullable = true)\n",
      " |-- PREDICTION_TEAM_AWAY_WIN: string (nullable = true)\n",
      " |-- LOCATION: string (nullable = true)\n",
      "\n",
      "root\n",
      " |-- STAGE: string (nullable = true)\n",
      " |-- DATE: date (nullable = true)\n",
      " |-- PENS: boolean (nullable = true)\n",
      " |-- PENS_HOME_SCORE: boolean (nullable = true)\n",
      " |-- PENS_AWAY_SCORE: boolean (nullable = true)\n",
      " |-- TEAM_NAME_HOME: string (nullable = true)\n",
      " |-- TEAM_NAME_AWAY: string (nullable = true)\n",
      " |-- TEAM_HOME_SCORE: integer (nullable = true)\n",
      " |-- TEAM_AWAY_SCORE: integer (nullable = true)\n",
      " |-- POSSESSION_HOME: string (nullable = true)\n",
      " |-- POSSESSION_AWAY: string (nullable = true)\n",
      " |-- TOTAL_SHOTS_HOME: integer (nullable = true)\n",
      " |-- TOTAL_SHOTS_AWAY: integer (nullable = true)\n",
      " |-- SHOTS_ON_TARGET_HOME: integer (nullable = true)\n",
      " |-- SHOTS_ON_TARGET_AWAY: integer (nullable = true)\n",
      " |-- DUELS_WON_HOME: string (nullable = true)\n",
      " |-- DUELS_WON_AWAY: string (nullable = true)\n",
      " |-- PREDICTION_TEAM_HOME_WIN: string (nullable = true)\n",
      " |-- PREDICTION_DRAW: integer (nullable = true)\n",
      " |-- PREDICTION_TEAM_AWAY_WIN: string (nullable = true)\n",
      " |-- LOCATION: string (nullable = true)\n",
      "\n",
      "root\n",
      " |-- STAGE: string (nullable = true)\n",
      " |-- DATE: date (nullable = true)\n",
      " |-- PENS: boolean (nullable = true)\n",
      " |-- PENS_HOME_SCORE: boolean (nullable = true)\n",
      " |-- PENS_AWAY_SCORE: boolean (nullable = true)\n",
      " |-- TEAM_NAME_HOME: string (nullable = true)\n",
      " |-- TEAM_NAME_AWAY: string (nullable = true)\n",
      " |-- TEAM_HOME_SCORE: integer (nullable = true)\n",
      " |-- TEAM_AWAY_SCORE: integer (nullable = true)\n",
      " |-- POSSESSION_HOME: string (nullable = true)\n",
      " |-- POSSESSION_AWAY: string (nullable = true)\n",
      " |-- TOTAL_SHOTS_HOME: integer (nullable = true)\n",
      " |-- TOTAL_SHOTS_AWAY: integer (nullable = true)\n",
      " |-- SHOTS_ON_TARGET_HOME: integer (nullable = true)\n",
      " |-- SHOTS_ON_TARGET_AWAY: integer (nullable = true)\n",
      " |-- DUELS_WON_HOME: string (nullable = true)\n",
      " |-- DUELS_WON_AWAY: string (nullable = true)\n",
      " |-- PREDICTION_TEAM_HOME_WIN: string (nullable = true)\n",
      " |-- PREDICTION_DRAW: integer (nullable = true)\n",
      " |-- PREDICTION_TEAM_AWAY_WIN: string (nullable = true)\n",
      " |-- LOCATION: string (nullable = true)\n",
      "\n"
     ]
    }
   ],
   "source": [
    "# Cargar los archivos CSV en DataFrames de PySpark\n",
    "df_2020 = spark.read.csv(\"dbfs:/FileStore/uefa_2020.csv\", header=True, inferSchema=True)\n",
    "df_2021 = spark.read.csv(\"dbfs:/FileStore/uefa_2021.csv\", header=True, inferSchema=True)\n",
    "df_2022 = spark.read.csv(\"dbfs:/FileStore/uefa_2022.csv\", header=True, inferSchema=True)\n",
    "\n",
    "df_2020.printSchema()\n",
    "df_2021.printSchema()\n",
    "df_2022.printSchema()"
   ]
  },
  {
   "cell_type": "markdown",
   "metadata": {
    "application/vnd.databricks.v1+cell": {
     "cellMetadata": {},
     "inputWidgets": {},
     "nuid": "39c27fe5-9997-4e82-b1bc-562f45d1e776",
     "showTitle": false,
     "tableResultSettingsMap": {},
     "title": ""
    }
   },
   "source": [
    "## TEAM_HOME_WITH_MOST_GOALS"
   ]
  },
  {
   "cell_type": "markdown",
   "metadata": {
    "application/vnd.databricks.v1+cell": {
     "cellMetadata": {},
     "inputWidgets": {},
     "nuid": "7efe4e32-112a-4f02-a3da-94276d797fb8",
     "showTitle": false,
     "tableResultSettingsMap": {},
     "title": ""
    }
   },
   "source": [
    "1. Encuentra los 3 equipos que anotaron más goles jugando en su estadio en la UEFA Champions League 2020-21. El resultado debe contener dos columnas: `TEAM_NAME_HOME` y `TEAM_HOME_SCORE` ordenadas en orden descendente de `TEAM_HOME_SCORE`. Guarda la consulta (o el notebook) como TEAM_HOME_WITH_MOST_GOALS."
   ]
  },
  {
   "cell_type": "code",
   "execution_count": 0,
   "metadata": {
    "application/vnd.databricks.v1+cell": {
     "cellMetadata": {
      "byteLimit": 2048000,
      "rowLimit": 10000
     },
     "inputWidgets": {},
     "nuid": "092303b7-2f7f-4d83-bb03-2ec84895085b",
     "showTitle": false,
     "tableResultSettingsMap": {},
     "title": ""
    }
   },
   "outputs": [
    {
     "name": "stdout",
     "output_type": "stream",
     "text": [
      "+-----------------+----------------+\n",
      "|   TEAM_NAME_HOME|TOTAL_GOALS_HOME|\n",
      "+-----------------+----------------+\n",
      "| Manchester City |              15|\n",
      "|     Real Madrid |              14|\n",
      "|   Bayern Munich |              13|\n",
      "+-----------------+----------------+\n",
      "\n"
     ]
    }
   ],
   "source": [
    "# Agrupar por equipo local y sumar los goles anotados en casa (TEAM_HOME_SCORE)\n",
    "df_2020_filtered = df_2020.filter(df_2020[\"TEAM_HOME_SCORE\"].isNotNull())  \n",
    "\n",
    "# Agrupar por el equipo local y sumar los goles\n",
    "df_teams_home_goals = df_2020_filtered.groupBy(\"TEAM_NAME_HOME\").agg(\n",
    "    F.sum(\"TEAM_HOME_SCORE\").alias(\"TOTAL_GOALS_HOME\")\n",
    ")\n",
    "\n",
    "# Ordenar \n",
    "top_3_teams_home_goals = df_teams_home_goals.orderBy(F.col(\"TOTAL_GOALS_HOME\").desc()).limit(3)\n",
    "top_3_teams_home_goals.select(\"TEAM_NAME_HOME\", \"TOTAL_GOALS_HOME\").show()\n"
   ]
  },
  {
   "cell_type": "markdown",
   "metadata": {
    "application/vnd.databricks.v1+cell": {
     "cellMetadata": {},
     "inputWidgets": {},
     "nuid": "d2b76f0f-11fa-4d0c-b3aa-23885819ef77",
     "showTitle": false,
     "tableResultSettingsMap": {},
     "title": ""
    }
   },
   "source": [
    "## TEAM_WITH_MAJORITY_POSSESSION"
   ]
  },
  {
   "cell_type": "markdown",
   "metadata": {
    "application/vnd.databricks.v1+cell": {
     "cellMetadata": {},
     "inputWidgets": {},
     "nuid": "6f4b0108-4203-43b9-ac00-b324a0067c84",
     "showTitle": false,
     "tableResultSettingsMap": {},
     "title": ""
    }
   },
   "source": [
    "2. Encuentra el equipo con posesión mayoritaria la mayor cantidad de veces durante la UEFA Champions League 2021-22. El resultado debe incluir dos columnas: `TEAM_NAME` y `GAME_COUNT`, que es la cantidad de veces que el equipo tuvo posesión mayoritaria durante un partido de fútbol. Guarda esta consulta (o el notebook) como TEAM_WITH_MAJORITY_POSSESSION"
   ]
  },
  {
   "cell_type": "markdown",
   "metadata": {
    "application/vnd.databricks.v1+cell": {
     "cellMetadata": {},
     "inputWidgets": {},
     "nuid": "81f20727-56f2-4744-8376-4adcb8892e45",
     "showTitle": false,
     "tableResultSettingsMap": {},
     "title": ""
    }
   },
   "source": [
    "> El codigo en resumen primero se asegura de no contener nulos en los datos de la posesion, luego crea una columna donde en base a ese dato guarda el nombre del equipo, ya sea en casa o en visitante. Despues tendriamos una columna con los nombres de los equipos que mas posesion tuvieron por partido, pues esta columna se agrupa por nombres y se cuentan para saber cual es el que mas aparece. Luego mostramos\n",
    "\n"
   ]
  },
  {
   "cell_type": "code",
   "execution_count": 0,
   "metadata": {
    "application/vnd.databricks.v1+cell": {
     "cellMetadata": {
      "byteLimit": 2048000,
      "rowLimit": 10000
     },
     "inputWidgets": {},
     "nuid": "305710e0-7f58-4c11-a193-a1a56b6f183c",
     "showTitle": false,
     "tableResultSettingsMap": {},
     "title": ""
    }
   },
   "outputs": [
    {
     "name": "stdout",
     "output_type": "stream",
     "text": [
      "+-----------------------------+----------+\n",
      "|TEAM_WITH_MAJORITY_POSSESSION|GAME_COUNT|\n",
      "+-----------------------------+----------+\n",
      "|                    Liverpool|         9|\n",
      "+-----------------------------+----------+\n",
      "\n"
     ]
    }
   ],
   "source": [
    "# Filtrar para identificar\n",
    "df_2021_filtered = df_2021.filter(\n",
    "    (df_2021[\"POSSESSION_HOME\"].isNotNull()) & (df_2021[\"POSSESSION_AWAY\"].isNotNull())\n",
    ")\n",
    "\n",
    "# Crear una columna que identifica qué equipo tiene la posesión\n",
    "df_2021_filtered = df_2021_filtered.withColumn(\n",
    "    \"TEAM_WITH_MAJORITY_POSSESSION\",\n",
    "    F.when(F.col(\"POSSESSION_HOME\") > F.col(\"POSSESSION_AWAY\"), F.col(\"TEAM_NAME_HOME\"))\n",
    "    .otherwise(F.col(\"TEAM_NAME_AWAY\"))\n",
    ")\n",
    "\n",
    "# Contar la cantidad de veces que cada equipo tuvo posesión\n",
    "df_teams_majority_possession = df_2021_filtered.groupBy(\"TEAM_WITH_MAJORITY_POSSESSION\").agg(\n",
    "    F.count(\"TEAM_WITH_MAJORITY_POSSESSION\").alias(\"GAME_COUNT\")\n",
    ")\n",
    "\n",
    "# Ordenar los resultados por la cantidad de veces y coger el equipo más frecuente\n",
    "top_team_majority_possession = df_teams_majority_possession.orderBy(F.col(\"GAME_COUNT\").desc()).limit(1)\n",
    "\n",
    "top_team_majority_possession.select(\"TEAM_WITH_MAJORITY_POSSESSION\", \"GAME_COUNT\").show()"
   ]
  },
  {
   "cell_type": "markdown",
   "metadata": {
    "application/vnd.databricks.v1+cell": {
     "cellMetadata": {},
     "inputWidgets": {},
     "nuid": "b17c6150-78e7-47b4-a40c-d575b5984e68",
     "showTitle": false,
     "tableResultSettingsMap": {},
     "title": ""
    }
   },
   "source": [
    "## TEAM_WON_DUEL_LOST_GAME_STAGE_WISE"
   ]
  },
  {
   "cell_type": "markdown",
   "metadata": {
    "application/vnd.databricks.v1+cell": {
     "cellMetadata": {},
     "inputWidgets": {},
     "nuid": "abcafc56-7f1a-44f4-ab7b-91d738b0ee74",
     "showTitle": false,
     "tableResultSettingsMap": {},
     "title": ""
    }
   },
   "source": [
    "3. Encuentra la lista de equipos de cada fase del juego que ganaron el duelo en un partido pero terminaron perdiendo el juego en el Campeonato de la UEFA 2022-23. El resultado debe contener dos columnas: STAGE y TEAM_LOST. Guarda la consulta (o el notebook) como TEAM_WON_DUEL_LOST_GAME_STAGE_WISE."
   ]
  },
  {
   "cell_type": "code",
   "execution_count": 0,
   "metadata": {
    "application/vnd.databricks.v1+cell": {
     "cellMetadata": {
      "byteLimit": 2048000,
      "rowLimit": 10000
     },
     "inputWidgets": {},
     "nuid": "893b24eb-5d0e-4683-9232-34dad524046a",
     "showTitle": false,
     "tableResultSettingsMap": {},
     "title": ""
    }
   },
   "outputs": [
    {
     "name": "stdout",
     "output_type": "stream",
     "text": [
      "+--------------------------+-------------------+\n",
      "|STAGE                     |TEAM_LOST          |\n",
      "+--------------------------+-------------------+\n",
      "|Group stage: Matchday 6   |Celtic             |\n",
      "|Group stage: Matchday 6   |Sevilla            |\n",
      "| Semi-finals second leg   |Milan              |\n",
      "| Semi-finals second leg   |Real Madrid        |\n",
      "| Round of 16 second leg   |Liverpool          |\n",
      "| Round of 16 second leg   |Paris Saint-Germain|\n",
      "| Round of 16 second leg   |Eintracht Frankfurt|\n",
      "| Round of 16 second leg   |Leipzig            |\n",
      "| Round of 16 second leg   |Dortmund           |\n",
      "| Round of 16 first leg    |Tottenham          |\n",
      "| Round of 16 first leg    |Chelsea            |\n",
      "| Round of 16 first leg    |FC Porto           |\n",
      "| Quarter-finals first leg |Chelsea            |\n",
      "| Quarter-finals first leg |Napoli             |\n",
      "| Group stage: Matchday 6  |Salzburg           |\n",
      "| Group stage: Matchday 6  |Internazionale     |\n",
      "| Group stage: Matchday 6  |Napoli             |\n",
      "| Group stage: Matchday 6  |Dinamo Zagreb      |\n",
      "| Group stage: Matchday 6  |Atletico Madrid    |\n",
      "| Group stage: Matchday 5  |Real Madrid        |\n",
      "+--------------------------+-------------------+\n",
      "only showing top 20 rows\n",
      "\n"
     ]
    }
   ],
   "source": [
    "# Equipo local ganó más duelos pero perdió el partido\n",
    "df_2022_filtered_home = df_2022.filter(\n",
    "    (df_2022[\"DUELS_WON_HOME\"] > df_2022[\"DUELS_WON_AWAY\"]) & (df_2022[\"TEAM_HOME_SCORE\"] < df_2022[\"TEAM_AWAY_SCORE\"])\n",
    ")\n",
    "\n",
    "# Equipo visitante ganó más duelos pero perdió el partido\n",
    "df_2022_filtered_away = df_2022.filter(\n",
    "    (df_2022[\"DUELS_WON_AWAY\"] > df_2022[\"DUELS_WON_HOME\"]) & (df_2022[\"TEAM_AWAY_SCORE\"] < df_2022[\"TEAM_HOME_SCORE\"])\n",
    ")\n",
    "\n",
    "# Unir ambos\n",
    "df_teams_lost_game_2022 = df_2022_filtered_home.union(df_2022_filtered_away)\n",
    "\n",
    "# Seleccionar el STAGE y el equipo que perdió\n",
    "df_teams_lost_game_result_2022 = df_teams_lost_game_2022.select(\n",
    "    \"STAGE\", \n",
    "    F.when(F.col(\"TEAM_HOME_SCORE\") < F.col(\"TEAM_AWAY_SCORE\"), F.col(\"TEAM_NAME_HOME\"))\n",
    "    .otherwise(F.col(\"TEAM_NAME_AWAY\")).alias(\"TEAM_LOST\")\n",
    ")\n",
    "\n",
    "df_teams_lost_game_result_2022_sorted.show(truncate=False)"
   ]
  },
  {
   "cell_type": "markdown",
   "metadata": {
    "application/vnd.databricks.v1+cell": {
     "cellMetadata": {},
     "inputWidgets": {},
     "nuid": "98419c73-40c8-4c29-b733-00e9aa7d643d",
     "showTitle": false,
     "tableResultSettingsMap": {},
     "title": ""
    }
   },
   "source": [
    "> A ver, asi como esta arriba se ve un poco lioso porque no te enteras muy bien de que ha pasado verdaderamente, entonces con esto podemos ver un mini resumen de cuantos equipos en cada fase hicieron lo de ganar los duelos y luego perder el partido"
   ]
  },
  {
   "cell_type": "code",
   "execution_count": 0,
   "metadata": {
    "application/vnd.databricks.v1+cell": {
     "cellMetadata": {
      "byteLimit": 2048000,
      "rowLimit": 10000
     },
     "inputWidgets": {},
     "nuid": "17e1956a-01be-48ef-aa1a-871ba122094b",
     "showTitle": false,
     "tableResultSettingsMap": {},
     "title": ""
    }
   },
   "outputs": [
    {
     "name": "stdout",
     "output_type": "stream",
     "text": [
      "+--------------------------+-----+\n",
      "|STAGE                     |count|\n",
      "+--------------------------+-----+\n",
      "| Group stage: Matchday 6  |5    |\n",
      "| Group stage: Matchday 2  |5    |\n",
      "| Group stage: Matchday 5  |7    |\n",
      "| Semi-finals second leg   |2    |\n",
      "| Final                    |1    |\n",
      "| Round of 16 second leg   |5    |\n",
      "| Round of 16 first leg    |3    |\n",
      "| Group stage: Matchday 1  |10   |\n",
      "|Group stage: Matchday 6   |2    |\n",
      "| Group stage: Matchday 4  |3    |\n",
      "| Quarter-finals first leg |2    |\n",
      "| Group stage: Matchday 3  |11   |\n",
      "+--------------------------+-----+\n",
      "\n"
     ]
    }
   ],
   "source": [
    "# Contar la cantidad de equipos por fase\n",
    "df_teams_lost_game_result_2022_count = df_teams_lost_game_result_2022_distinct.groupBy(\"STAGE\").count()\n",
    "df_teams_lost_game_result_2022_count.show(truncate=False)\n"
   ]
  }
 ],
 "metadata": {
  "application/vnd.databricks.v1+notebook": {
   "dashboards": [],
   "environmentMetadata": null,
   "language": "python",
   "notebookMetadata": {
    "pythonIndentUnit": 4
   },
   "notebookName": "Caso2",
   "widgets": {}
  },
  "language_info": {
   "name": "python"
  }
 },
 "nbformat": 4,
 "nbformat_minor": 0
}
